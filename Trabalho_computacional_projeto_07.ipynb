{
  "cells": [
    {
      "cell_type": "markdown",
      "metadata": {
        "id": "d9lgizPZWE9y"
      },
      "source": [
        "# Trabalho de Análise Exploratória de Dados\n",
        "\n",
        "## Projeto 7: Pedagogo Analítico\n",
        "## Professor: Ricardo Coelho\n",
        "## Membros da equipe:\n",
        "\n",
        "*   **Bruno Igor Sousa Vasconcelos**\n",
        "*   **Luís Miguel Frazão de Sousa**\n",
        "*   **Yuri Rodrigues Matos**\n",
        "\n",
        "\n",
        "\n"
      ]
    },
    {
      "cell_type": "markdown",
      "metadata": {
        "id": "dbMnA8AXXupr"
      },
      "source": [
        "## Importando os dados e as bibliotecas\n",
        "\n",
        "Nesse momento inicial, é necessário importar a base de dados e as bibliotecas que vão auxiliar nas manipulações no conjunto de dados."
      ]
    },
    {
      "cell_type": "code",
      "execution_count": 3,
      "metadata": {
        "colab": {
          "base_uri": "https://localhost:8080/",
          "height": 206
        },
        "id": "R8xoj_GKXI8Q",
        "outputId": "d171a0ed-5703-404c-8a31-6c19d8382039"
      },
      "outputs": [
        {
          "data": {
            "text/html": [
              "<div>\n",
              "<style scoped>\n",
              "    .dataframe tbody tr th:only-of-type {\n",
              "        vertical-align: middle;\n",
              "    }\n",
              "\n",
              "    .dataframe tbody tr th {\n",
              "        vertical-align: top;\n",
              "    }\n",
              "\n",
              "    .dataframe thead th {\n",
              "        text-align: right;\n",
              "    }\n",
              "</style>\n",
              "<table border=\"1\" class=\"dataframe\">\n",
              "  <thead>\n",
              "    <tr style=\"text-align: right;\">\n",
              "      <th></th>\n",
              "      <th>gender</th>\n",
              "      <th>race/ethnicity</th>\n",
              "      <th>parental level of education</th>\n",
              "      <th>lunch</th>\n",
              "      <th>test preparation course</th>\n",
              "      <th>math score</th>\n",
              "      <th>reading score</th>\n",
              "      <th>writing score</th>\n",
              "    </tr>\n",
              "  </thead>\n",
              "  <tbody>\n",
              "    <tr>\n",
              "      <th>0</th>\n",
              "      <td>female</td>\n",
              "      <td>group B</td>\n",
              "      <td>bachelor's degree</td>\n",
              "      <td>standard</td>\n",
              "      <td>none</td>\n",
              "      <td>72</td>\n",
              "      <td>72</td>\n",
              "      <td>74</td>\n",
              "    </tr>\n",
              "    <tr>\n",
              "      <th>1</th>\n",
              "      <td>female</td>\n",
              "      <td>group C</td>\n",
              "      <td>some college</td>\n",
              "      <td>standard</td>\n",
              "      <td>completed</td>\n",
              "      <td>69</td>\n",
              "      <td>90</td>\n",
              "      <td>88</td>\n",
              "    </tr>\n",
              "    <tr>\n",
              "      <th>2</th>\n",
              "      <td>female</td>\n",
              "      <td>group B</td>\n",
              "      <td>master's degree</td>\n",
              "      <td>standard</td>\n",
              "      <td>none</td>\n",
              "      <td>90</td>\n",
              "      <td>95</td>\n",
              "      <td>93</td>\n",
              "    </tr>\n",
              "    <tr>\n",
              "      <th>3</th>\n",
              "      <td>male</td>\n",
              "      <td>group A</td>\n",
              "      <td>associate's degree</td>\n",
              "      <td>free/reduced</td>\n",
              "      <td>none</td>\n",
              "      <td>47</td>\n",
              "      <td>57</td>\n",
              "      <td>44</td>\n",
              "    </tr>\n",
              "    <tr>\n",
              "      <th>4</th>\n",
              "      <td>male</td>\n",
              "      <td>group C</td>\n",
              "      <td>some college</td>\n",
              "      <td>standard</td>\n",
              "      <td>none</td>\n",
              "      <td>76</td>\n",
              "      <td>78</td>\n",
              "      <td>75</td>\n",
              "    </tr>\n",
              "  </tbody>\n",
              "</table>\n",
              "</div>"
            ],
            "text/plain": [
              "   gender race/ethnicity parental level of education         lunch  \\\n",
              "0  female        group B           bachelor's degree      standard   \n",
              "1  female        group C                some college      standard   \n",
              "2  female        group B             master's degree      standard   \n",
              "3    male        group A          associate's degree  free/reduced   \n",
              "4    male        group C                some college      standard   \n",
              "\n",
              "  test preparation course  math score  reading score  writing score  \n",
              "0                    none          72             72             74  \n",
              "1               completed          69             90             88  \n",
              "2                    none          90             95             93  \n",
              "3                    none          47             57             44  \n",
              "4                    none          76             78             75  "
            ]
          },
          "execution_count": 3,
          "metadata": {},
          "output_type": "execute_result"
        }
      ],
      "source": [
        "import pandas as pd\n",
        "import matplotlib.pyplot as plt\n",
        "import seaborn as sns\n",
        "import scipy.stats as stats\n",
        "import numpy as np\n",
        "import math\n",
        "from scipy.stats import skew, kurtosis\n",
        "\n",
        "df = pd.read_csv('StudentsPerformance.csv')\n",
        "df.head()"
      ]
    },
    {
      "cell_type": "markdown",
      "metadata": {
        "id": "AEe9n4tyX6cR"
      },
      "source": [
        "## 1. Calculando as medidas resumo para o 'math score'\n",
        "\n",
        "Na célula abaixo, foi feito o cálculo das medidas resumos/descritivas, sendo elas:\n",
        "\n",
        "**Medidas de Tendência Central**\n",
        "\n",
        "---\n",
        "\n",
        "\n",
        "\n",
        "*   Média: valor médio/centro de massa das notas de matemática;\n",
        "*   Mediana: valor central da distribuição;\n",
        "*   Moda: valor mais frequente observado.\n",
        "\n",
        "**Medidas de Dispersão**\n",
        "\n",
        "\n",
        "---\n",
        "\n",
        "\n",
        "\n",
        "*   Amplitude: diferença entre os extremos;\n",
        "*   Variância (amostral): grau médio de dispersão dos dados em torno da média;\n",
        "*   Desvio padrão: raiz quadrada da variância, interpretável na mesma unidade da variável;\n",
        "*   Coeficiente de variação: desvio padrão relativo em relação à média, expresso em percentual, também usado para comparar a variabilidade entre diferentes variáveis.\n",
        "\n",
        "\n",
        "\n",
        "No contexto da primeira questão, as medidas centrais apontam onde as notas se acumularam na distribuição, enquanto as medidas de dispersão mostram as possiveis variações na acumulação. Além disso, foi optado a resolução de cada medida individualmente, para fins de organização, porém uma alternativa de listar as medidas resumo de uma coluna ou até mesmo de um conjunto de dados usando funções disponíveis nas bibliotecas importadas foi deixada comentada ao final da célula abaixo."
      ]
    },
    {
      "cell_type": "code",
      "execution_count": null,
      "metadata": {
        "colab": {
          "base_uri": "https://localhost:8080/"
        },
        "id": "aaqJLFGCYI70",
        "outputId": "051a0b9b-f0d1-45fb-fece-a9a7f82d8997"
      },
      "outputs": [
        {
          "name": "stdout",
          "output_type": "stream",
          "text": [
            "Medidas de tendência central\n",
            "\n",
            "Média: 66.089\n",
            "Mediana: 66.0\n",
            "Moda: 65\n",
            "\n",
            "Medidas de dispersão\n",
            "\n",
            "Amplitude: 100\n",
            "Variância: 229.91899799799796\n",
            "Desvio padrão: 15.16308009600945\n",
            "Coeficiente de Variação: 22.94%\n",
            "\n",
            "Outras medidas-resumo\n",
            "\n",
            "Mínimo: 0\n",
            "Mánimo: 100\n"
          ]
        }
      ],
      "source": [
        "math_score = df['math score']\n",
        "\n",
        "# Medidas de tendência central\n",
        "media = math_score.mean()\n",
        "mediana = math_score.median()\n",
        "moda = math_score.mode()[0] if not math_score.mode().empty else np.nan\n",
        "\n",
        "# Medidas de dispersão\n",
        "amplitude = math_score.max() - math_score.min()\n",
        "variancia = math_score.var()\n",
        "desvio_padrao = math_score.std()\n",
        "coef_var = (desvio_padrao / media) * 100 if media != 0 else np.nan\n",
        "\n",
        "# Outras medidas-resumo\n",
        "\n",
        "minimo = math_score.min()\n",
        "maximo = math_score.max()\n",
        "\n",
        "print('Medidas de tendência central\\n')\n",
        "print(f\"Média: {media}\")\n",
        "print(f\"Mediana: {mediana}\")\n",
        "print(f\"Moda: {moda}\")\n",
        "print('\\nMedidas de dispersão\\n')\n",
        "print(f\"Amplitude: {amplitude}\")\n",
        "print(f\"Variância: {variancia}\")\n",
        "print(f\"Desvio padrão: {desvio_padrao}\")\n",
        "print(f\"Coeficiente de Variação: {coef_var:.2f}%\")\n",
        "print('\\nOutras medidas-resumo\\n')\n",
        "print(f\"Mínimo: {minimo}\")\n",
        "print(f\"Mánimo: {maximo}\")\n",
        "print(\"\\n------------------------------------------------------\\n\")\n",
        "\n",
        "# df['math score'].describe()"
      ]
    },
    {
      "cell_type": "markdown",
      "metadata": {
        "id": "NfB6Ul0YYyVZ"
      },
      "source": [
        "## 2. Comparação as distribuições das notas de matemática, leitura e escrita (math, reading e writing score) usando boxplots.\n",
        "\n",
        "Os métodos estatísticos de visualização gráfica mais comuns são:\n",
        "\n",
        "\n",
        "\n",
        "*   Histograma: Gráfico de barras contínuas que representa a distribuição de uma variável quantitativa dividida em classes (ou intervalos);\n",
        "*   Boxplot: Representa cinco medidas resumo (mínimo, Q1, mediana, Q3 e máximo), além de possíveis outliers;\n",
        "*   Gráficos de Barra: Barras retangulares cuja altura é proporcional à frequência (absoluta ou relativa) de uma variável categórica;\n",
        "*   Gráficos de setores: Representa proporções de categorias como segmentos de um círculo;\n",
        "*   Gráfico de Dispersão: Representa pares ordenados (x,y) em um plano cartesiano;\n",
        "*   Gráfico de Linhas: Liga pontos com uma linha para mostrar a evolução de uma variável ao longo do tempo ou de outra dimensão.\n",
        "\n",
        "\n",
        "\n",
        "Na segunda questão, foi utilizado o boxplot para gerar as visualizações das três distribuições de notas. Com esse gráfico, foi possível comparar a assimetria, presença de outliers e amplitude interquartílica das variáveis. E o seu uso com as três colunas simultaneamente permite uma comparação direta da distribuição de desempenho dos alunos entre os exames avaliadas. O que permite levantar resultados, nos quais mostram que existem mais notas baixas extremas e que a média do 'math score' é mais baixa em relação ao outros exames."
      ]
    },
    {
      "cell_type": "code",
      "execution_count": 5,
      "metadata": {
        "colab": {
          "base_uri": "https://localhost:8080/",
          "height": 470
        },
        "id": "yqneM1bgZVb3",
        "outputId": "9c4575e2-de26-4eaa-f01d-c556c3773639"
      },
      "outputs": [
        {
          "data": {
            "text/plain": [
              "Text(0.5, 1.0, 'Distribuições das Notas')"
            ]
          },
          "execution_count": 5,
          "metadata": {},
          "output_type": "execute_result"
        },
        {
          "data": {
            "image/png": "[encoded data removed]",
            "text/plain": [
              "<Figure size 640x480 with 1 Axes>"
            ]
          },
          "metadata": {},
          "output_type": "display_data"
        }
      ],
      "source": [
        "sns.boxplot(data=df[['math score', 'reading score', 'writing score']])\n",
        "plt.title('Distribuições das Notas')"
      ]
    },
    {
      "cell_type": "markdown",
      "metadata": {
        "id": "M_Bv6R83Ztdz"
      },
      "source": [
        "## 3. Assimetria e curtose para as três notas\n",
        "\n",
        "Outras medidas que também auxiliam no trabalho estatístico são:\n",
        "\n",
        "\n",
        "\n",
        "*   Assimetria: A assimetria mede o grau de distorção ou desvio da simetria de uma distribuição de dados em relação à média. Ela indica se os valores estão mais concentrados à direita ou à esquerda da média.\n",
        "*   Curtose: A curtose descreve o grau de concentração dos dados em torno da média e o comportamento das caudas da distribuição.\n",
        "\n",
        "O cálculo das duas medidas nos ajuda a encontrar as seguintes situações:\n",
        "\n",
        "\n",
        "\n",
        "*   'math score': leve assimetria à esquerda e levemente leptocúrtica. Isso implica que a maioria dos alunos tende a se agrupar ao redor da média de matemática, mas com uma leve presença de notas mais baixas.\n",
        "*   'reading score': leve assimetria à esquerda e levemente platicúrtica. Isso implica que há uma distribuição um pouco mais espalhada nas notas de leitura, sem presença de muitos extremos.\n",
        "*   'writing score': leve assimetria à esquerda e levemente platicúrtica. Isso implica que a distribuição de notas de escrita também é levemente descentralizada com poucos extremos, sugerindo uma variação moderada.\n",
        "\n",
        "As três variáveis apresentam distribuições fracamente assimétrica, com leve inclinação negativa, ou seja, há uma tendência suave de que existam mais alunos com notas altas e menos com notas extremamente baixas. Além disso, as medidas de Curtose próximas de zero mostram uma distribuição bem perto da normal com pequenas variações na forma. **Portanto, é possível afirmar que elas seguem uma distribuição similar, o que viabiliza a comparação direta entre as variáveis.**\n",
        "\n",
        "\n",
        "\n"
      ]
    },
    {
      "cell_type": "code",
      "execution_count": 6,
      "metadata": {
        "colab": {
          "base_uri": "https://localhost:8080/"
        },
        "id": "CfYALEfDZzjp",
        "outputId": "a6fe4245-c242-41b5-b8d4-2a1b44af74e1"
      },
      "outputs": [
        {
          "name": "stdout",
          "output_type": "stream",
          "text": [
            "math score: Assimetria = -0.278516571914075, Curtose = 0.26759715461497846\n",
            "reading score: Assimetria = -0.25871569927829347, Curtose = -0.07391861478331307\n",
            "writing score: Assimetria = -0.28900962452114176, Curtose = -0.03919203131162252\n"
          ]
        }
      ],
      "source": [
        "for col in ['math score', 'reading score', 'writing score']:\n",
        "    print(f'{col}: Assimetria = {skew(df[col])}, Curtose = {kurtosis(df[col])}')"
      ]
    },
    {
      "cell_type": "markdown",
      "metadata": {
        "id": "I9Wqepm_juaT"
      },
      "source": [
        "## 4. Percentual de alunos por grupo étnico\n",
        "\n",
        "O cálculo de percentual por categoria ajuda a reinvidicar estatísticas sobre uma determinada conjectura. Por exemplo, ao calcular o percentual dos alunos por raça, revela-se uma assimetria/distribuição desigual, na qual:\n",
        "\n",
        "\n",
        "\n",
        "*   Com 31,9% dos estudantes, o grupo C é o mais representado na amostra. O que significa que 1 a cada 3 pessoas pertece a esse grupo\n",
        "*   O grupo D, com 26,2%, também possui uma boa quantidade, ligeiramente inferior à do grupo C.\n",
        "*   O grupo B representa quase 1/5 da amostra, com 19%.\n",
        "*   O grupo E aparece com 14,0%, uma representação consideravelmente menor.\n",
        "*   O grupo A tem a menor participação, com apenas 8,9% dos estudantes, ou seja, menos de 1 em cada 10.\n",
        "\n",
        "\n",
        "![Figure_1.png](data:image/png;base64,iVBORw0KGgoAAAANSUhEUgAAAyAAAAJYCAYAAACadoJwAAAAOnRFWHRTb2Z0d2FyZQBNYXRwbG90bGliIHZlcnNpb24zLjEwLjMsIGh0dHBzOi8vbWF0cGxvdGxpYi5vcmcvZiW1igAAAAlwSFlzAAAPYQAAD2EBqD+naQAAaghJREFUeJzt3Qd4FNXawPF3k5BCIAQILfQmAaWoIAJeRGkKFxXxKlgoYsEPRVBRUSwoCjawg3gFLIAKV1AsIBZQEVSQqoQapQuhEwiQZL/nPTjr7pJNNslmkt38f88zhD27mTlnz8nuvHPKOJxOp1MAAAAAwAZhdhwEAAAAABQBCAAAAADbEIAAAAAAsA0BCAAAAADbEIAAAAAAsA0BCAAAAADbEIAAAAAAsA0BCAAAAADbEIAAAAAAsA0BCAAAAADbEIAAAAAAsA0BCAAAAADbEIAAAAAAsA0BCAAAKDJOp1NefPFF+fzzz4s6KwBsEmHXgQAAALw99dRT8uGHH8qiRYuKOisAbEIPCAAAKBJHjx41PSDz58+X8uXLF3V2ANiEAARAnjz++OPicDhsOVaHDh3MZlm4cKE59qxZswJ2jD/++MPsc+rUqXn+Xc1HfHy8tGvXTjZu3Ci33XabGUqC4ql///5Sp06dos4G3JQpU0YeeeQRqVatWkh8ZgHwDwEIUILpSbd+MVtbdHS0JCYmSteuXeXll1+WI0eOBOQ4O3fuNCcBK1eulFDy7LPPmqBDT56SkpLko48+kquuuiqgx9ATZvc6qly5svzrX/+S2bNnSyh4/fXX8xX8lQQnTpyQV155RS666CLTOxAZGWn+Pq+44gqZMWOGZGZmSrDybtfu22WXXeZ6nc4L0c8OAKHF4dS+TwAlkp74DRgwQJ544gmpW7eunDp1Snbv3m16GhYsWCC1atWSTz75RJo1a+b6nYyMDLNpsOKvZcuWSatWrWTKlCnmKrS/Tp48aX7qiZfSfF1yySUyc+ZMueaaayQQ9CNQT/RKlSol4eHhefrdP//8U6pXry4RERGyd+9eKVu2bJ7eF39P1PTk895773UFc2+88YZs2bJFJkyYIIMGDZJgds4550hCQoKp28KmbU+Po71exZ22p8svv1yWL19uLgh07txZKlSoYP4+v/rqK/nmm2/M3632HgQj73btToOsSy+91Pz/zjvvlNdee838neZXfj6zABQuJqEDMCc6LVu2dD0eMWKEOcH597//ba62rlu3TmJiYsxzerKtW2E6duyYlC5d2hV4FCar5yc/ateu7fp/pUqVpLBokHPjjTe6Hvft21caNGgg48ePL3AAkp6ebt7nsDA6xO2U2/t+0003yYoVK+R///ufXH311R7P6d+nBvXr168v0DGKmne7Lix2fGYByJvi+akEoMjpFUi9uqpX+d97770cx1Nrb4kOE9H5EDqmu1GjRvLQQw+Z5/SKs/Z+KO1tsYZZWMNudI6HXgXXK73t27c3gYf1u95zQCw69ERfU7VqVYmNjTVB0rZt2864wppdb4v3Pn3NAUlOTpZrr73WBBYafGmZHn74YdfzKSkpcscdd8hZZ51lnq9YsaL85z//yfbquvZW6HN6BVvLd+GFF8pnn30m+aXlbty4scmDZceOHXLzzTdLlSpVJCoqSs4++2yZPHmyx+9Zc2jef/99GTlypDkB1PwcPnzYPP/TTz9Jt27dzJVpfV+15+ull146433R3ictiwZuGrhqL1l2Q/sWL14s99xzj3kPdX89e/Y0V/bd6+i3334zqx9Z7cKqG1/j9q19u7/PH3/8sXTv3t1cOdey169fX5588sl8D1HSfGnw/eWXX0qLFi1MOZs0aWKG2OWnbnN7370tWbLETMrW4X3ewYdF3/cbbrjBr2Pk5b0MdNkLQv9+tfdDuQ/Rcv+7ff7552XSpEmmzrXu9bPml19+8diPr/Lr59oFF1xg8q5tXj9/tNzeQwT1b0n3re1r8ODBcvDgwYCVESipuCQAwCe9Cqsn+vqlfOutt2b7Gj2B1BMWPVnVISH6Rb1p0yZz8qn0RFnTH330UXNCpfMXVNu2bV372Ldvn+mF6d27t7kiqifRuS3bqScUDzzwgOzZs8dM/O7UqZOZY2L11BTE6tWrTT51WJbmWU/KNm/eLHPnzjXHtk7W9USxT58+UqNGDRMMTJw40ZxA//777+akRv3111+mrNqrM2TIEBOovP322yZo0knselKeVzpUTgMu3Zd1DD350/dEh6zoCf8XX3whAwcONCegQ4cO9fh9PTnXK+P33XefGX6m/9cgUutR57PcfffdJsjRnq9PP/3UPLbqWifc68ntgw8+aIIKXT5V573olXrvstx1113mxO6xxx4zJ4xaT5q/Dz74wDyvj/U1GrRawV1udZ8dPZHWfWiwoz+1907bm5b9ueeek/zQRQWuu+4608PUr18/M3xQT7bnzZtnhkPlp26ze9+zo+1M5ad3wN9j2F12X+04NTX1jHRtV/p3fPvtt5shh9o233333Wz3MX36dDNXTV+r7V/nZWnQpsGR/v36MmrUKBOYaBn080nfJ/2b1rbTpUsX8xp9Xl+nny16sUF7nHTYowY4+vmW0/4B5ELngAAomaZMmaIDq52//PKLz9eUK1fOee6557oeP/bYY+Z3LOPHjzeP9+7d63Mfun99jR7P28UXX2yemzhxYrbP6Wb59ttvzWurV6/uPHz4sCv9ww8/NOkvvfSSK6127drOfv365brPlJSUM/LWvn17Z9myZZ1//vmnx+9mZWW5/n/s2LEz9r1kyRKzr3feeceVNnToUJP2/fffu9KOHDnirFu3rrNOnTrOzMxMZ060HF26dDHvr26rVq1y9u7d2+zzrrvuMq8ZOHCgs1q1as7U1FSP39XXaf1ZebXev3r16nnkPyMjw+RHj3XgwAGfZe7YsaOzadOmzvT0dI/n27Zt62zYsOEZ7apTp04evz9s2DBneHi48+DBg660s88+26M+fLUz731rveVUF7fffruzdOnSHnnV9qBlzI2+Ro/xv//9z5V26NAh8x67/y34W7e+3ndfevbsaV7v/j6p48ePu9qBbu51ldMx8vJeBrrsvljHyW4bM2aM63WDBw/ONu/W323FihWd+/fvd6V//PHHJn3u3Lk+y79x40ZnWFiYeZ+982m11z179jgjIyPN3577a1599VWzr8mTJ+dYPgA5YwgWgBzpFeWcVsPSYVfWMJisrKx8HUN7TXR4lr90DoRO+LbokCC9ch+IOynrEKHvvvvODGfSSfju3IdxuPe06JVc7cXReRn6fvz666+u5zRPOsxDh6i5v6fas6K9AtpbkhvtgdJeDd2aN29uJuFr79QzzzxjJudq70OPHj3M//WKsrXp5OVDhw555EfpVW33/OtcA+3B0Z4Sqz69y7x//35zdViHpWl7sI6h5dbj6FVzHQbmTsvo/p5pr5IOi9JhfYHkXhYrb3osvTqvQ8byQ4fbuF/Fj4uLM+1O3yudCJ6fuvV+332xhmbpvtxpD5vVDnRzP25ej2F32bPTunVr07vhvWmvor+0p8b9/iFWD6v2gPgyZ84c81mlvWTe82Os9qoT/XURDP2bcH+N9gTr+xHIoWZAScQQLAC53ihMl37N6QTgv//9r9xyyy1mWE7Hjh3NEAgNCvyd/KpDevIyVKRhw4ZnnDToyX8gVjeyTlx0XkpOjh8/LmPGjDHDU/TE232VHj3pt+jJtp5oedOhadbzuR1Lf3/06NGmnDq0S3/XChR0CJqOSddx8LplR1/jTlc8c6fDy3Irsw6r0zLqvCBfKy/pcbQuLd4BnHWieODAAQkkHRqm8x40QPKeV+FeF3mh7cl73oDO91HaznSIWl7r1vt998UKrvVvr1y5cq70Xr16ufanq0dlN8fF32PYXfbs6OpnOrypIPLTxrS962eTzm3xxQqSde6XO/2cqlevXsCDaKCkIQAB4NP27dvNCZyekPiiV1u1x+Dbb781VwV1nLiO8ddJ7Hrl3p+lbQMxb8ObrxuP6UlbXpfbzY7OXdDgQ6+QtmnTxpwo6jF1Hkt+e4Lyc6JmHUvnC+jV7+y4L6Oc3/fbOo7OLdAej+x4txNf77M/S6rmVH/uNPi6+OKLzVVpHcuvk5F14rT2+ugcoUDXRUH4+77rPWXU2rVrzZwbS82aNc1mnWhnN38iu2P4+14Go4K0MQBFhwAEgE/WxE9fJ5wWvZqoPR+6jRs3Tp5++mkzqViDEj1xDvRdiHW4j/fJhl6hdz/R1hO07Far0SuXegXTF+s5PfnLiU601RP+F154wWPZU+9j6lK92S2Xag0Ncl/KNz90KI5eMdeTyfxeTdaTdqvMvvZhvS868bagV63d+Wob1pVsfT/dh4V5X3nW1Z90GJiu0qSrGFncVwjLD6vHxz1/GzZsMD+tu6kXVt3qYgBjx46VadOmeQQg+eXve1kcyu6tMO5gru1dA1MdJqYrfWXHyr+W0f3zQodladsK5N8AUBIxBwRAtnQ4i66oo0M63Jf79KZzA7xZX+q6Co+1qo0K1PKV77zzjse8FA0Gdu3aZVbScj/JWLp0qetmhkpXdPJerje7E3o9kdUlbLdu3erzqqpeefW+yqp3rfa+qqzL2v78889mxSxLWlqaGS6lJ3M5DQPxh+ZDh+boPJDsgib3ZW99Oe+880w966pU3nVklVGH4ekKX3oTRH2v83Oc7GjbyK5dWEGR9q65v2+60lJ2V8Dd60LrXJdPLQhdfcn9bvM6tEvbnbZtHYJUmHWrQYeuNqX70blVBb3C7+97WRzK7i3Qnx1KV23TiybaY+bdQ2a9rxpg6HCrl19+2eO9fuutt0yvsC77DCD/6AEBYJZs1SuXerdgXV5Tgw+dDKpXAfUeDzndqE+/xPXERr+Q9fU6D0BP/nRpWmuCqp4A6ZVXnUSrV+v1pELHj+d3vLred0D3rRPXNb964qzDf9yXCtY5KRqYXHbZZWbitI771nX/rZOxnOhJh+5fT8x1Uq3mU8e+6xAzXerXukqtPUQ69EpPtvRETCeuWkvjWnRezIwZM0xwpMuVat71xE+vomrQEIibxOnVcu1t0vdU3wPNjwaGOgxJ85RdkOhO86DLi+pEdj3J1PdVJ/Vrm9D5FXpPCqX3ZND3pWnTpuY4emVY338tuw7XW7VqVZ7zfv7555tj6xwXrUMNdHT4ni6FquP7dSnh4cOHm0BDg0INEN0DQ11GVa/wa2+Uvr96xVzrpaBDcHTOgx5bl1zVpYH12FpWHXZnR91qW9W2qyfLun89IdZyWndC178594A7J/6+l3aXXedOud9jyH0yu5bbah9Kj6E9sZp3HeZYENrOtIdWL7DopHWds6YLYWh5dQK+zu3S90Zv+KjL8Go96PLC2huin216rxE7bqAIhLRcVskCEMKsZTitTZedrFq1qrNz585mSVv3pW59LWn59ddfO6+88kpnYmKi+X392adPH+eGDRs8fk+Xx2zSpIkzIiLCY9lbXYJVl2LNjq9leGfMmOEcMWKEs3Llys6YmBhn9+7dz1gyV73wwgtmyd6oqChnu3btnMuWLfNrGV61du1as0xnXFyceb5Ro0bORx55xPW8LoE6YMAAZ0JCgrNMmTLOrl27OpOTk7Nd/nfz5s3Oa665xhkfH++Mjo52XnDBBc5PP/3U6Q/dn5YvN3/99ZdZsrRmzZrOUqVKmXrUZXMnTZp0xvs3c+bMbPfxww8/mLrXJYhjY2OdzZo1c77yyitnlKVv375m/3ocfX///e9/O2fNmpXr8s7W8fWnZffu3aZ8ekx9zr1uli9f7mzdurVpV7Vq1XKOGzcu26VjFy9e7LzwwgtNW9D2d//99zvnz59/xrHysgyv5kn3oe+Btp+kpKRs3zd/6ja3990XXXb3xRdfdLZp08a0Q/3b0fdd3+9p06aZ5ZP9PYa/72Wgy56fZXjd60jLqMtNV6pUyelwOFyfPdbf7XPPPXfGvjVdP6dyW4ZYl9LVpYW1jOXLlzdtb8GCBR6v0WV3tfza1qtUqeK84447zliqGkDeOfSfog6CAKA406vP999/v+sGZQhtOoRIV3DSIXslTUkuOwD7MAcEAHKhQ5OyGyoCAADyjjkgAOCDjnHXibV647+c7oUCAAD8Rw8IAPigE7DvvPNOM1lW738BAAAKrljPAdGVXXQVirvvvtuscmOts693gH3//ffNEp+6KoauSqErdQAAAAAo3optD4guh6frzXvfwXfYsGEyd+5cMyRi0aJFZr1yXUIPAAAAQPFXLAOQo0ePmhufvfnmm647uCq9+Y/eBEjvtKzrxOv64Lou+Y8//mhuOAYAAACgeCuWAcjgwYPNTc106Ut3y5cvl1OnTnmkJyUlmRssud+NFQAAAEDxVOxWwdK5HXr3Xh2C5U3vABsZGWnuqOxO53/oc77oXBHdLFlZWebOwHrHYr1rLgAAAAD/6BTyI0eOSGJiooSFhQV3ALJt2zYz4XzBggUSHR0dsP2OGTNGRo0aFbD9AQAAACXdtm3bpEaNGsG9CtacOXOkZ8+eEh4e7krLzMw0vRQaXc2fP98Mvzpw4IBHL0jt2rVl6NChZoK6Pz0gOpdEh22lpKRIXFycSdP966a9I7pZrHTNh/tb5Std8675zcjI8MiDVSZ9vT/pERERZr/u6bpffb13Hn2lUybKRJkoE2WiTJSJMlEmyuQMcJkOHz4sdevWlYMHD0q5cuUkqHtAOnbsKGvWrPFIGzBggJnn8cADD0jNmjWlVKlS8vXXX0uvXr3M8+vXr5etW7dKmzZtfO43KirKbN4qVKjgCkAAAAAA5E4DJ5XfqQzFKgApW7asnHPOOR5psbGxZq6GlT5w4EC55557XMHDXXfdZYKPCy+8sIhyDQAAACAoAxB/jB8/3nQbaQ+I+40IAQAAABR/xWoOiF103JqOV9O5IAzBAgAAAOw7ly6W9wEBAAAAEJoIQAAAAADYhgAEAAAAgG0IQAAAAADYhgAEAAAAgG0IQAAAAADYhgAEAAAAgG0IQAAAAADYhgAEAAAAgG0IQAAAAADYhgAEAAAAgG0IQAAAAADYhgAEAAAAgG0IQAAAAADYhgAEAAAAgG0IQAAAAADYhgAEAAAAgG0IQAAAAADYhgAEAAAAgG0IQAAAAADYhgAEAAAAgG0IQAAAAADYhgAEAAAAgG0IQAAAAADYhgAEAAAAgG0IQAAAAADYhgAEAAAAgG0IQAAAAADYhgAEAAAAgG0IQAAAAADYhgAEAAAAgG0IQAAAAADYhgAEAAAAgG0IQAAAAADYhgAEAAAAgG0IQAAAAADYhgAEAAAAgG0IQAAAAADYhgAEAAAAgG0IQAAAAADYhgAEAAAAgG0IQAAAAADYhgAEAAAAgG0IQAAAAADYhgAEAAAAgG0IQAAAAADYhgAEAAAAgG0IQAAAAADYhgAEAAAAgG0IQAAAAADYhgAEAAAAgG0IQAAAAACU3ABkwoQJ0qxZM4mLizNbmzZt5IsvvnA936FDB3E4HB7boEGDijTPAAAAAPwTIcVMjRo1ZOzYsdKwYUNxOp3y9ttvy5VXXikrVqyQs88+27zm1ltvlSeeeML1O6VLly7CHAMAAAAI2gCkR48eHo+feuop0yuydOlSVwCiAUfVqlWLKIcAAAAAQiYAcZeZmSkzZ86UtLQ0MxTLMm3aNHnvvfdMEKIByyOPPJJjL8iJEyfMZjl8+LD5mZGRYTYVFhZmtqysLLNZrHTNi/bI5JYeHh5uhoVZ+3VPt8rkT3pERITZr3u67ldf751HX+mUiTJRJspEmSgTZaJMlIkyOQNcJu/XhEQAsmbNGhNwpKenS5kyZWT27NnSpEkT89z1118vtWvXlsTERFm9erU88MADsn79evnoo4987m/MmDEyatSoM9J1WFdsbKz5f6VKlaR+/fqSkpIie/fu9RgSptuGDRvk0KFDrvR69epJ5cqVZe3atXL8+HFXelJSksTHx5t9u1eUzmuJjIyUZcuWeeShZcuWcvLkSVMW94pu1aqVOV5ycrIrPSYmRpo3by6pqamyZcsWV3q5cuWkcePGsnPnTtm+fbsrnTJRJspEmSgTZaJMlIkyUaZDAS6Tdg4UhMPpHvoUE1pBW7duNW/WrFmz5L///a8sWrTIFYS4++abb6Rjx46yadMm8+b72wNSs2ZN2bdvn5noroiIKRNlokyUiTJRJspEmSgTZcrINe96Ll2xYkVzrm6dSwd9AOKtU6dOJrh44403znhOIzDtJZk3b5507drVr/3pm6ZRZH7fNAAAAKCkOlzAc+litwxvdjSac+/BcLdy5Urzs1q1ajbnCgAAAEDQzwEZMWKEXH755VKrVi05cuSITJ8+XRYuXCjz58+XzZs3m8fdunUz3T46jm7YsGHSvn17Mz4NAAAAQPFW7AKQPXv2SN++fWXXrl2ma0cDCw0+OnfuLNu2bZOvvvpKXnzxRTP0Sudx9OrVS0aOHFnU2QYAAAAQKnNAAo05IAAAAED+lIg5IAAAAABCAwEIAAAAANsQgAAAAACwDQEIAAAAANsQgAAAAACwDQEIAAAAANsQgAAAAACwDQEIAAAAANsQgAAAAACwDQEIAAAAANsQgAAAAACwDQEIAAAAANsQgAAAAACwDQEIZMKECdKsWTOJi4szW5s2beSLL75wPT9p0iTp0KGDec7hcMjBgwdz3eeRI0dk6NChUrt2bYmJiZG2bdvKL7/84vGa559/XipXrmy2F154weO5n376Sc4//3zJyMgIYEkBAABQ1AhAIDVq1JCxY8fK8uXLZdmyZXLppZfKlVdeKb/99pt5/tixY3LZZZfJQw895Pc+b7nlFlmwYIG8++67smbNGunSpYt06tRJduzYYZ5fvXq1PProo/L+++/LjBkzZOTIkeZ1SoOOQYMGycSJEyUiIqKQSg0AAICi4HA6nU4pYQ4fPizlypWTQ4cOmav6OFOFChXkueeek4EDB7rSFi5cKJdccokcOHBA4uPjff7u8ePHpWzZsvLxxx9L9+7dXenao3H55ZfL6NGj5cMPP5Rx48bJ0qVLzXOtW7eW++67T/7zn//ImDFjZPfu3fLSSy8VcikBAABg97k0l5fhITMzU2bOnClpaWlmKFZ+aA+G7ic6OtojXYdi/fDDD+b/TZs2lQ0bNsjWrVtFY2D9/znnnCObN2+WKVOmmN4YAAAAhB6GYMHQ4U9lypSRqKgoM/xp9uzZ0qRJk3ztS3s/NHh58sknZefOnSYYee+992TJkiWya9cu85rGjRvL008/LZ07dzbDs7TXQ9Nuv/12efbZZ2X+/PkmIDn33HPlu+++C3BpAQAAUFToAYHRqFEjWblypelKmzVrlvTr108WLVqU7yBE537cfPPNUr16dQkPD5fzzjtP+vTp49GzoYGObpa3337bFbxofnTS+vbt26V3796SkpJigiMAAAAENwIQGJGRkdKgQQPXXA09+dc5GG+88Ua+9le/fn0TwOhQLh0nWK1aNbnuuuukXr162b4+NTVVRo0aZXo7dAWss846Sxo2bGi2U6dOmSFaOmwLAAAAwY0hWMhWVlaWnDhxosD7iY2NNcGHTlzXYVW6ulZ2hg0bZjZdkUuHbGnQ4T2nBAAAAMGPHhDIiBEjzOpUtWrVMvfvmD59ulnxSgMGpStS6bZp0ybXfBEdKqWv19WyVMeOHaVnz55y5513msf6uzq5XIdS6e8NHz5ckpKSZMCAAWccX5fr1R4OHYKlWrVqJcnJyeZeJNu2bTNDuHQ/AAAACH4EIJA9e/ZI3759zQRxXVJNb0qoAYROEFd6Pw4dHmVp3769+amrVfXv39/8X1ev0mFUFp1LooGNzuHQIKVXr17y1FNPSalSpc5YsleDlg8++EDCwk53yGkvyCuvvGKCFZ33oYGJrqAFAACA4Md9QLgPCAAAAGDbuTRzQAAAAADYhgAEAAAAgG0IQAAAAADYhgAEAAAAgG0IQAAAAADYhgAEAAAAgG0IQAAAAADYhhsRFqGtW7d63LwPxV9CQoK5AzwAAADyhwCkCIOPpMaN5fixY0WdFeRBTOnSkrxuHUEIAABAPhGAFBHt+dDg49rRE6Ry3YZFnR34YU/KRvlw5B2m7ghAAAAA8ocApIhp8FG9cfOizgYAAABgCyahAwAAALANAQgAAAAA2xCAAAAAALANAQgAAAAA2xCAAAAAALANAQgAAAAA2xCAAAAAALANAQgAAAAA2xCAAAAAALANAQgAAAAA2xCAAAAAALANAQgAAAAA2xCAAAAAALANAQgAAAAA2xCAAAAAALANAQgAAACAkhuATJgwQZo1ayZxcXFma9OmjXzxxReu59PT02Xw4MFSsWJFKVOmjPTq1Uv++uuvIs0zAAAAgCANQGrUqCFjx46V5cuXy7Jly+TSSy+VK6+8Un777Tfz/LBhw2Tu3Lkyc+ZMWbRokezcuVOuvvrqos42AAAAAD9ESDHTo0cPj8dPPfWU6RVZunSpCU7eeustmT59uglM1JQpU6Rx48bm+QsvvLCIcg0AAAAgKHtA3GVmZsr7778vaWlpZiiW9oqcOnVKOnXq5HpNUlKS1KpVS5YsWVKkeQUAAAAQhD0gas2aNSbg0PkeOs9j9uzZ0qRJE1m5cqVERkZKfHy8x+urVKkiu3fv9rm/EydOmM1y+PBh8zMjI8NsKiwszGxZWVlms1jpGgw5nc5c08PDw8XhcLj2656u9PVKj6FlEXGKOJ3icP5zTOUMCz8z3eEQpyMsh/QscbjlxelwiOSQbvbhkR5m9uUzPet03j3S9fDeefeVHvRlcpo607qz6jciIsLUv1Wvp7PuMPXt3ZZ8pdvd9nJLp0yUiTJRJspEmSgTZcop796vCYkApFGjRibYOHTokMyaNUv69etn5nvk15gxY2TUqFFnpK9YsUJiY2PN/ytVqiT169eXlJQU2bt3r+s1OuxLtw0bNpj8WOrVqyeVK1eWtWvXyvHjxz16ZDRA0n27V5ROrNeTV53XonRfw4cPlyNaCZknper+za7XOsPCZEdCkkSfSpOEg1td6RkRUbK7Qn2JTT8o5Y/scqWnR8ZKanxtiTu2T+LS/sl7Wky8HCibKOWP7pbY4wdd6YdjK5mt4qFtEn0yzZV+oGw1SYspL1UOpEhExj8BW2p8LUmPLCOJ+zeKw61ha14ywyKkeup6j/d1R0IjCc/KCLkyRTmcps727dtn6lH/IFu1amXqMjk52fXamJgYad68uaSmpsqWLVtc6eXKlTPDBXXe0vbt213pdrc9S8uWLeXkyZOyevVqVxplokyUiTJRJspEmShTZi5l0tFJBeFwuoc+xZQOudI39rrrrpOOHTvKgQMHPHpBateuLUOHDjUT1P3tAalZs6Y5kdSVtooietQAq127dnLblM+kelLzEOwtCL0ekB3Jq2TSgO6yePFiadGiRVBfucgpnTJRJspEmSgTZaJMlCmnvOu5tK5Iq4GNdS4d9D0g3vTN1ADi/PPPl1KlSsnXX39tlt9V69evl61bt5ohW75ERUWZzZtWum7urErxZr35/qZ779c7XY+hkbCI4++T7Wz2k+f0MHE6xO/00yfheUjXACIb2ebFV3pQl8lh6kzrzr1+9Y81u/r21Zbymh7otudPOmWiTDnlnTJRJspEmXLKO2UK/TJF+HhN0AYgI0aMkMsvv9xMLD9y5IhZ8WrhwoUyf/580/U0cOBAueeee6RChQom4rrrrrtM8MEKWAAAAEDxV+wCkD179kjfvn1l165dJuDQcWcafHTu3Nk8P378eBPdaQ+I9op07dpVXn/99aLONgAAAIBgDED0Ph85iY6Oltdee81sAAAAAIJLsb4PCAAAAIDQQgACAAAAwDYEIAAAAABsQwACAAAAwDYEIAAAAABsQwACAAAAwDYEIAAAAABsQwACAAAAwDYEIAAAAABsQwACAAAAwDYEIAAAAABsQwACAAAAwDYEIAAAAABsQwACAAAAwDYEIAAAAABsQwACAAAAwDYEIAAAAABsQwACAAAAwDYEIAAAAABsQwACAAAAwDYEIAAAAABsQwACAAAAwDYEIAByNWbMGGnVqpWULVtWKleuLFdddZWsX7/+jNctWbJELr30UomNjZW4uDhp3769HD9+vED7veeee6RChQpSs2ZNmTZtmsdzM2fOlB49egSwpAAAoLARgADI1aJFi2Tw4MGydOlSWbBggZw6dUq6dOkiaWlpHsHHZZddZtJ//vln+eWXX+TOO++UsLCwfO937ty5Mn36dPnyyy/l2WeflVtuuUVSU1PNc4cOHZKHH35YXnvtNRveAQAAECgRAdsTgJA1b948j8dTp041PRbLly83vRxq2LBhMmTIEHnwwQddr2vUqFGB9rtu3Trp0KGDtGzZ0mxDhw6VlJQUSUhIkPvvv1/uuOMOqVWrVkDLCgAAChc9IADyTHsflA6NUnv27JGffvrJBA9t27aVKlWqyMUXXyw//PBDgfbbvHlzWbZsmRw4cMAEJTqcq0GDBma/v/76qwl4AABAcCEAAZAnWVlZpieiXbt2cs4555i0LVu2mJ+PP/643HrrraZn47zzzpOOHTvKxo0b873frl27yo033mjmifTv31/efvttM79Eez4mTpwoEyZMML0s+ju//fZbIZYaAAAECkOwAOSJztlYu3atR++GBg/q9ttvlwEDBpj/n3vuufL111/L5MmTzWTz/OzXCmp0s4waNUo6deokpUqVktGjR8uaNWvk008/lb59+5peEgAAULzRAwLAbzqpXE/2v/32W6lRo4YrvVq1auZnkyZNPF7fuHFj2bp1a7736y05OVnee+89efLJJ2XhwoVmnkilSpXk2muvNUOyjhw5UqDyAQCAwkcAAiBXTqfTBAmzZ8+Wb775RurWrevxfJ06dSQxMfGMJXQ3bNggtWvXzvd+vV+rPSzjxo2TMmXKSGZmplk1S1k/NQ0AABRvBCAA/BoepT0PuiSu3rNj9+7dZrPu8eFwOGT48OHy8ssvy6xZs2TTpk3yyCOPmB6LgQMHuvajc0JeffVVv/fr7r///a/p7bDu+6HzPjRo0SV8x48fb3pf4uPjbXk/AABA/jEHBECudLK30iVx3U2ZMsVMDlc6gTw9Pd0sx7t//36zgpXe26N+/fqu12/evNl1Hw9/96v++usveeqpp+THH390pV1wwQVy7733Svfu3c3qWzpBHQAAFH8Op45rKGEOHz4s5cqVM0t+6t2ai4KOVz///PPlzmlfSfXGzYskD8ibHetWyas3dDITnXWFJwAAgJLocAHPpRmCBQAAAMA2BCAAAAAAbEMAAgAAAMA2BCAAAAAAbEMAAgAAAMA2BCAAAAAAbEMAAgAAAMA23IgQKMa2bt3qceM+FH8JCQlSq1atos4GAADFFgEIUIyDj6TGjeX4sWNFnRXkQUzp0pK8bh1BCAAAPhCAAMWU9nxo8HHt6AlSuW7Dos4O/LAnZaN8OPIOU3cEIAAAZI8ABCjmNPio3rh5UWcDAAAgIJiEDgAAAMA2BCAAAAAAbEMAAgAAAMA2BCAAAAAAbEMAAgAAAMA2BCAAAAAAbEMAAgAAAMA2BCAAAAAASm4AMmbMGGnVqpWULVtWKleuLFdddZWsX7/e4zUdOnQQh8PhsQ0aNKjI8gwAAAAgSAOQRYsWyeDBg2Xp0qWyYMECOXXqlHTp0kXS0tI8XnfrrbfKrl27XNuzzz5bZHkGAAAA4J8IKWbmzZvn8Xjq1KmmJ2T58uXSvn17V3rp0qWlatWqRZBDAAAAACETgHg7dOiQ+VmhQgWP9GnTpsl7771ngpAePXrII488YoKS7Jw4ccJslsOHD5ufGRkZZlNhYWFmy8rKMpvFSs/MzBSn05lrenh4uBkSZu3XPV3p65UeIzIyUkScIk6nOJz/HFM5w8LPTHc4xOkIyyE9SxxueXE6HCI5pJt9eKSHmX35TM86nXePdD28d959pQd9mZymzrTurPqNiIgw9W/V6+msO0x9e7clX+m+2p7VrsLE6ZFP6qn4linMrY3oVpDPiNzSC7PtFdbnHmWiTJSJMlGm0CiT92tCKgDRN3Ho0KHSrl07Oeecc1zp119/vdSuXVsSExNl9erV8sADD5h5Ih999JHPeSWjRo06I33FihUSGxtr/l+pUiWpX7++pKSkyN69e12vqVGjhtk2bNjgCoZUvXr1TM/M2rVr5fjx4670pKQkiY+PN/t2r6hmzZqZE5Nly5aZx7qv4cOHyxGthMyTUnX/ZtdrnWFhsiMhSaJPpUnCwa2u9IyIKNldob7Eph+U8kd2udLTI2MlNb62xB3bJ3Fp/+Q9LSZeDpRNlPJHd0vs8YOu9MOxlcxW8dA2iT75z9C2A2WrSVpMealyIEUiMv4J2FLja0l6ZBlJ3L9RHG4NW/OSGRYh1VM95+jsSGgk4VkZIVemKIfT1Nm+fftMPeofpM5X0rpMTk52vTYmJkaaN28uqampsmXLFld6uXLlpHHjxrJz507Zvn27K91X29Phh6pOqZNSyS0/1FPxLVPFqHRXG9H6L8hnhKVly5Zy8uRJ81lnKey2V1ife5SJMlEmykSZQqNM3lMj8srhdA99ipk77rhDvvjiC/nhhx/MG+jLN998Ix07dpRNmzaZCvCnB6RmzZrmJCEuLq5IoseVK1eawOq2KZ9J9aTmXIUOgjLtSF4lkwZ0l8WLF0uLFi0K/crFqlWrzAfWkGkLJLFR00IpUyjWU1GWaWfyapn4dxs577zzuGpGmSgTZaJMlCkky3T48GGpWLGiCWysc+mQ6AG588475dNPP5Xvvvsux+BDtW7d2vz0FYBERUWZzZtWum7urErxZr35/qZ779c7XY+hkbCI4+8Tnmz2k+f0MHE6xO/00yd3eUjXk7hsZJsXX+lBXSaHqTOtO/f61T/W7OrbV1vyN133q7LEkW0+qafiV6YstzZi1WV+PyP8SS+stldYn3v+pFMmypRT3ikTZaJMUizK5Os1QRuAaCR21113yezZs2XhwoVSt27dXH9HexNUtWrVbMghAAAAgJAJQHQJ3unTp8vHH39s7gWye/du17g3HRO3efNm83y3bt1M14+OpRs2bJhZIUvHqAEAAAAovopdADJhwgTXzQbdTZkyRfr3728mwXz11Vfy4osvmgkwOpejV69eMnLkyCLKMQAAAICgDUBymxOvAYferBAAAABA8Cl2d0IHAAAAELoIQAAAAADYhgAEAAAAgG0IQAAAAADYhgAEAAAAgG0IQAAAAADYhgAEAAAAQHDdByQrK8vcm+P777+XP//8U44dOyaVKlWSc889Vzp16mTu3QEAAAAABeoBOX78uIwePdoEGN26dZMvvvhCDh48KOHh4bJp0yZ57LHHpG7duua5pUuXBi7XAAAAAEpeD8hZZ50lbdq0kTfffFM6d+4spUqVOuM12iMyffp06d27tzz88MNy6623FuSQAAAAAEpqAPLll19K48aNc3xN7dq1ZcSIEXLffffJ1q1bC3I4AAAAACV5CFZuwYc77R2pX79+QQ4HAAAAIMgFZBK6u4yMDHnjjTdk4cKFkpmZKe3atZPBgwdLdHR0oA8FAAAAoKQHIEOGDJENGzbI1VdfLadOnZJ33nlHli1bJjNmzAj0oQAAAACUtABk9uzZ0rNnT495IevXrzcrYamuXbvKhRdeWNDDAAAAAAgBBb4R4eTJk+Wqq66SnTt3msfnnXeeDBo0SObNmydz586V+++/X1q1ahWIvAIAAAAo6QGIBhl9+vSRDh06yCuvvCKTJk2SuLg4s+TuI488Yu4RosvwAgAAAEBA5oBcd911ZqiV9nboz4kTJ8oLL7wQiF0DAAAACCEF7gGxxMfHm96P5557Tvr27SvDhw+X9PT0QO0eAAAAQAgocACiNxe89tprpWnTpnLDDTdIw4YNZfny5VK6dGlp3ry5fPHFF4HJKQAAAICgV+AARHs7wsLCTM9H5cqV5fbbb5fIyEgZNWqUzJkzR8aMGWMCFAAAAAAo8BwQvcfHqlWrzF3Odf5H3bp1Pe6U/t1335mhWQAAAABQ4ADk/PPPl0cffVT69esnX331lRmK5e22224r6GEAAAAAhIACD8HSO52fOHFChg0bJjt27JA33ngjMDkDAAAAEHIK3ANSu3ZtmTVrVmByAwAAACCkFagHJC0trVBfDwAAACC0FCgAadCggYwdO1Z27drl8zVOp1MWLFggl19+ubz88ssFORwAAACAkjwEa+HChfLQQw/J448/bu750bJlS0lMTJTo6Gg5cOCA/P7777JkyRKJiIiQESNGmCV6AQAAAJRcBQpAGjVqJP/73//MzQhnzpwp33//vfz4449y/PhxSUhIkHPPPVfefPNN0/sRHh4euFwDAAAAKJmT0FWtWrXk3nvvNRsAAAAAFNoyvAAAAADgLwIQAAAAALYhAAEAAABgGwIQAAAAALYhAAEAAAAQHKtgrV692u/XNmvWrCCHAgAAAFDSA5AWLVqIw+EwdzvPjvWc/szMzCzIoQAAAACU9AAkJSUlcDkBAAAAEPIKFIDUrl07cDkBAAAAEPICcid0d7///rts3bpVTp486ZF+xRVXBPpQAAAAAEpqALJlyxbp2bOnrFmzxmNeiP5fMQcEAAAAQMCW4b377rulbt26smfPHildurT89ttv8t1330nLli1l4cKFgToMAAAAgCAWsB6QJUuWyDfffCMJCQkSFhZmtosuukjGjBkjQ4YMkRUrVgTqUAAAAABKeg+IDrEqW7as+b8GITt37nRNVF+/fn2gDgMAAAAgiAWsB+Scc86RVatWmWFYrVu3lmeffVYiIyNl0qRJUq9evUAdBgAAAEAQC1gAMnLkSElLSzP/f+KJJ+Tf//63/Otf/5KKFSvKBx98EKjDAAAAAAhiAQtAunbt6vp/gwYNJDk5Wfbv3y/ly5d3rYQFAAAAoGQL+H1A3FWoUKEwdw8AAACgpAYgl1xySY49HbpCFgAAAICSLWCrYLVo0UKaN2/u2po0aWLuhv7rr79K06ZNA3UYAEAxpPd96tGjhyQmJpqLUXPmzPF4/q+//pL+/fub5/VeUZdddpls3Lgx1/3OnDlTkpKSJDo62nyXfP755x7PP//881K5cmWzvfDCCx7P/fTTT3L++edLRkZGgEoJAChWPSDjx4/PNv3xxx+Xo0ePBuowAIBiSBch0YtPN998s1x99dUezzmdTrnqqqukVKlS8vHHH0tcXJyMGzdOOnXqJL///rvExsZmu88ff/xR+vTpY+4npQubTJ8+3exHL2zpyourV6+WRx99VD799FNzDH1Nly5dTKCiQcegQYPMSowREYU62hgAUFQ9IL7ceOONMnnyZL9fr180rVq1MvcU0Sta+mXjfR+R9PR0GTx4sFlhq0yZMtKrVy9zdQ0AUDQuv/xyGT16tPTs2fOM57SnY+nSpTJhwgTz+d6oUSPz/+PHj8uMGTN87vOll14yPSXDhw+Xxo0by5NPPinnnXeevPrqq+Z5XeykWbNmcumll0rHjh3N/zVNPffcc9K+fXtzPABACQtA9A7p2nXur0WLFpngQr+sFixYIKdOnTJXtKwlftWwYcNk7ty5pmteX683PfS+4gYAKB5OnDhhfrp/F4SFhUlUVJT88MMPOX5/aC+J94qLmq60p2PDhg2ydetW+fPPP83/tWdk8+bNMmXKFBMQAQCKn4D1S2fX5b5r1y5ZtmyZPPLII37vZ968eR6Pp06danpCli9fbq5mHTp0SN566y3TFa9XvZR+0ejVMQ1aLrzwwgCVCAAQCDqHo1atWjJixAh54403zJArHba7fft28z3hy+7du6VKlSoeafpY05V+7j/99NPSuXNnVw+6pmnQojfDnT9/vhkGrEO/tDdFv0MAACEUgOiYXvdVsPTqlnaz600JtQcjvzTgcF/SVwMR7RVxvypmfbnpVTECEAAoXjQA+Oijj2TgwIHmszw8PNx8huuwLb1YVRA6z0M3y9tvv22G8LZp08Z8B/3yyy8m0Ondu7ekpKSYXhcAQIgEINpTEWhZWVkydOhQadeunelWV3rlKzIyUuLj431eFcuu+98aAqAOHz5sfuokRWt1FA2YdNNj6max0jMzMz2+KH2l6xerBmLeq65outLXW2XTcog4tbtIHM5/jqmcYeFnpjsc4nSE5ZCeJQ63vDg1IMwh3ezDIz3M7MtnetbpvHuk6+G98+4rPejL5DR1pnVn1a9ObtX6t+r1dNYdpr6925KvdF9tz2pXYeL0yCf1VHzLFObWRnQryGdEbumF2fYC8bnn/hr9v05Q1x5xvaikjytVqiStW7f2WKXKu0xVq1Z19ZBYedTH+nmvr/EuU2pqqowaNcqsyKUXpBo2bCh169Y1m1640iFaukJjID/Lg72eKBNlokyUKT9lKujqggELQOrVq2euNOnEcHcHDx40kwa3bNmS533qXJC1a9fmOEbYH9otr19K3lasWOFafUW/DOvXr2+ukO3du9f1mho1aphNv7is3hirvDo0TPOnEynde2M0ONJ9u1eUTo7UExP9Ala6L51YeUQrIfOkVN2/2fVaZ1iY7EhIkuhTaZJwcKsrPSMiSnZXqC+x6Qel/JF/hi2kR8ZKanxtiTu2T+LS/sl7Wky8HCibKOWP7pbY4wdd6YdjK5mt4qFtEn3yn7k1B8pWk7SY8lLlQIpEZPwTsKXG15L0yDKSuH+jONwatuYlMyxCqqd6LhKwI6GRhGdlhFyZohxOU2f79u0z9ah/kDrBVevSmviqYmJizMmWngy5t/ty5cqZ4SE6Z0mvyFp8tT09YVJ1Sp2USm75oZ6Kb5kqRqW72ojWf0E+IywtW7Y0S5rrik+Wwm57gfjc27Rpk3mNrzKtWbPG9GjfcMMNPv+ezjrrLLNq1j333OMqky7v26BBA5M37zLp5/xNN91k8q7zBHVf1rH170nzFujP8mCvJ8pEmSgTZcpPmdznZueHw1nQ/u+/aSSlPRBaIHe6OpUOj3LvgfDHnXfeab549EqWXr1yv6GhrnZy4MABj16Q2rVrm94SnaDuTw9IzZo1zUmCDh0riuhx5cqVpmfntimfSfWk5lyFDoIy7UheJZMGdJfFixeb+94U9pWLVatWmQ+sIdMWSGKjf+6lQz0V3zLtTF4tE/9uI3rhpSRdNdMvI+sLVL9QdRUq/azWIVfVq1eXWbNmmS9J/ezVpXf181rfow8//NC1H13CV+8TYk0e12V4dR9jx441w7Xef/998/+ff/7ZTEB3L9NXX31lluTV39H3Riem6xAsXaxk27ZtZi6i/tQvUa5uUibKRJkoU1iByqTn0trpoIGNdS5taw/IJ5984vq/TvjT6MyiGf3666+lTp06fu9P34i77rpLZs+eLQsXLvQIPpR21+t4Yt2vLr+rdJle/bLRMb/Z0TG/2Y371Ur3Xh/eqhRv1pvvb7qvdeetdD2GRsIijr9PeLLZT57Tw8SZ3c3ofaSfPrnLQ7qexGUj27z4Sg/qMjlMnWndudev/rFmV9++2pK/6dacqixxZJtP6qn4lSnLrY1YdZnfzwh/0gur7eXnc0+vjF1yySWux9oTpPr162eG6O7Zs8ek6UWpatWqSd++fU1Q4J5//Rx3//vSSeO64MjIkSPloYceMkOqtAfEugBg5V0vMN19993ywQcfuH5XL3y98sorcsstt5jPf50bolcVfSkp9ZTXvPtKp0yUKae8U6bQL1NEAe+vVOAARO/TYb15+kXjTgMFDT68706b27Ar/cLR3g+dSGjN69DARr889KdOZNQueb2yplGXBiwafDABHQCKRocOHXKcUD5kyBCz5UQvOnn7z3/+Y7ac6HeD9/2ilAYfugEAipcCByBWV4/2VOgckISEhALtT29OZX2ZudOldvv372/+r8s3aoSnPSB65UvXhX/99dcLdFwAAAAAhS9gk9B14ksg+DMlRW9m9dprr5kNAAAAQAkMQJTOy9BNx/q6T4JRkydPDuShAAAAAJTkAESXP9SbDuqqPTrB0P2mhAAAAAAQ0ABk4sSJZqUTXYMdAAAAALJz5lpd+aRLT7Zt2zZQuwMAAAAQggIWgOhSh7p8LgAAAAAU+hCs9PR0mTRpkrkbrd6yXe8B4m7cuHGBOhQAwO3mfampqUWdDeSBLlevN0oEgJIqYAHI6tWrXXenXbt2rcdzTEgHgMIJPpIaN5bjx44VdVaQBzGlS0vyunUEIQBKrIAFIN9++22gdgUA8IP2fGjwce3oCVK5bsOizg78sCdlo3w48g5TdwQgAEqqgN4HRG3atEk2b94s7du3l5iYGHNjQXpAAKDwaPBRvXHzos4GAAD2TkLft2+fdOzYUc466yzp1q2b7Nq1y6QPHDhQ7r333kAdBgAAAEAQC1gAMmzYMDPxXMckly5d2pV+3XXXybx58wJ1GAAAAABBLGBDsL788kuZP3++1KhRwyO9YcOG8ueffwbqMAAAAACCWMB6QNLS0jx6Piz79++XqKioQB0GAAAAQBALWADyr3/9S9555x3XY514npWVJc8++6xccsklgToMAAAAgCAWsCFYGmjoJPRly5bJyZMn5f7775fffvvN9IAsXrw4UIcBAAAAEMQC1gNyzjnnyIYNG+Siiy6SK6+80gzJuvrqq2XFihVSv379QB0GAAAAQBAL6H1AypUrJw8//HAgdwkAAAAghASsB2TKlCkyc+bMM9I17e233w7UYQAAAAAEsYAFIGPGjJGEhIQz0itXrixPP/10oA4DAAAAIIgFLADRGxDWrVv3jPTatWub5wAAAAAgYAGI9nSsXr36jPRVq1ZJxYoVA3UYAAAAAEEsYAFInz59ZMiQIfLtt99KZmam2b755hu5++67pXfv3oE6DAAAAIAgFrBVsJ588kn5448/zL1AIiJO71ZvRNi3b1/mgAAAAAAIXADidDpl9+7dMnXqVBk9erSsXLlSYmJipGnTpmYOCAAAAAAENABp0KCBufN5w4YNzQYAAAAAhTIHJCwszAQd+/btC8TuAAAAAISogE1CHzt2rAwfPlzWrl0bqF0CAAAACDEBm4Suk82PHTsmzZs3l8jISDMHxN3+/fsDdSgAAAAAJT0AefHFFwO1KwAAAAAhKmABSL9+/QK1KwAAAAAhKmBzQNTmzZtl5MiR5qaEe/bsMWlffPGFWR0LAAAAAAIWgCxatMjc9+Onn36Sjz76SI4ePWrSV61aJY899ligDgMAAAAgiAUsAHnwwQfNTQgXLFhgJqFbLr30Ulm6dGmgDgMAAAAgiAUsAFmzZo307NnzjPTKlStLampqoA4DAAAAIIgFLACJj4+XXbt2nZG+YsUKqV69eqAOAwAAACCIBSwA6d27tzzwwAOye/ducTgckpWVJYsXL5b77rvP3CMEAAAAAAIWgDz99NOSlJQkNWvWNBPQmzRpIu3bt5e2bdualbEAAAAAIGD3AdGJ52+++aY8+uijZj6IBiHnnnuuNGzYMFCHAAAAAFDSAxAdavXcc8/JJ598IidPnpSOHTuaZXdjYmICk0MAAAAAIaPAQ7Ceeuopeeihh6RMmTJmsvlLL70kgwcPDkzuAAAAAISUAgcg77zzjrz++usyf/58mTNnjsydO1emTZtmekYAAAAAIKAByNatW6Vbt26ux506dTKrYO3cubOguwYAAAAQYgocgGRkZEh0dLRHWqlSpeTUqVMF3TUAAACAEFPgSehOp1P69+8vUVFRrrT09HQZNGiQxMbGutI++uijgh4KAAAAQEkPQPr163dG2o033ljQ3QIAAAAIQQUOQKZMmRKYnAAAAAAIeQG7EzoAAAAA5IYABAAAAIBtCEAAAAAA2IYABAAAAIBtCEAAAECh++6776RHjx6SmJhoblg8Z84cn6/Vpfz1NS+++GKu+33ttdekTp065p5krVu3lp9//tnj+XvuuUcqVKggNWvWlGnTpnk8N3PmTJMnAPYiAAEAAIUuLS1NmjdvbgKGnMyePVuWLl1qApXcfPDBBybAeOyxx+TXX381++/atavs2bPHPD937lyZPn26fPnll/Lss8/KLbfcIqmpqea5Q4cOycMPP5xrfgCUgAAktysketNDTXffLrvssiLLLwAAyN3ll18uo0ePlp49e/p8zY4dO+Suu+4yPRWlSpXKdZ/jxo2TW2+9VQYMGCBNmjSRiRMnSunSpWXy5Mnm+XXr1kmHDh2kZcuW0qdPH4mLi5OUlBTz3P333y933HGH1KpVK4ClBBCUAYg/V0g04Ni1a5drmzFjhq15BAAAgZWVlSU33XSTDB8+XM4+++xcX3/y5ElZvny5dOrUyZUWFhZmHi9ZssQ81vOJZcuWyYEDB8xrjx8/Lg0aNJAffvjB9JgMGTKkUMsEoJBuRFgYV0h0y0lUVJRUrVrVtjwBAIDC9cwzz0hERITfQYEOpcrMzJQqVap4pOvj5ORk838djnXjjTdKq1atJCYmRt5++22JjY01PR9Tp06VCRMmyCuvvCIJCQkyadIkvwIfACEYgPhj4cKFUrlyZSlfvrxceumlpku3YsWKPl9/4sQJs1kOHz5sfmZkZJjNumqim16B0c1ipeuHnNPpzDU9PDzcDAuz9uuervT1So8RGRkpIk4Rp1Mczn+OqZxh4WemOxzidITlkJ4lDre8OB0OkRzSzT480sPMvnymZ53Ou0e6Ht47777Sg75MTlNnWndW/eqXpda/Va+ns+4w9e3dlnyl+2p7VrsKE6dHPqmn4lumMLc2oltBPiNyS7fanh7P1Uaop2JfJq0ra2hRQT8jCuv7Kbf0QHzuWax07Z146aWXTG+F/o61b/2p+c2uTO7lcP+/dRwrjyNHjjSbVaZRo0aZcwc9jp4/rFixQubNmyd9+/aVn376Kd9lCsV6okyUyVfevV8T8gGIDr+6+uqrpW7durJ582Z56KGHTI+Jdrdab5C3MWPGmA8cb/qho1dCVKVKlaR+/fpmbOjevXtdr6lRo4bZNmzYYCasWerVq2eCoLVr15ouXUtSUpLEx8ebfbtXVLNmzcyJgn64Kt2XdjMf0UrIPClV9292vdYZFiY7EpIk+lSaJBzc6krPiIiS3RXqS2z6QSl/ZJcrPT0yVlLja0vcsX0Sl/ZP3tNi4uVA2UQpf3S3xB4/6Eo/HFvJbBUPbZPok2mu9ANlq0laTHmpciBFIjL+CdhS42tJemQZSdy/URxuDVvzkhkWIdVT13u8rzsSGkl4VkbIlSnK4TR1tm/fPlOP2t70qprWpXW1TelVNu3216tzW7ZscaWXK1dOGjduLDt37pTt27e70n21vVOnTpmfdUqdlEpu+aGeim+ZKkalu9qI1n9BPiMsOnZdh5qsXr3alWa1PW0jerw6UekSnbqeegqCMmkbufnmm08fo4CfEYX1/eRP2yvo557FKtP7779vJo7ralYWzaPO03j++edl1apVZ5RJ27/m56+//vIo0++//27eM33sXaYyZcrIe++9Z3o79Kf2eGi+rr32WlMvixYtcp0XBOqzPJjriTJRJl9l0ikTBeFwuoc+xYxGYboaxlVXXeXzNVox+qZ/9dVX0rFjR797QHQ5Pj1J0AlpRRE9rly5Utq1aye3TflMqic1L5FXAoOtTDuSV8mkAd1l8eLF0qJFi0K/cqFfuPqBNWTaAkls1LRQyhSK9VSUZdqZvFom/t1GzjvvvEK/aqZXjdu2bSuDpnx2uo1QT8W+TDvXr5EJ/buZVZ70c6S4Xt3MKT0Qn3vaC6Tf71dccYVJ1+9jndPpnvdu3brJDTfcIP369TMnXdmVSb9HL7jgAhk/frx5rPvSk6vBgwfLgw8+6JFH/T2dH3LvvfeafesSvzoXZNasWXL06FEzqkJP3vQELD9lCsV6okyUyVfe9VxaRx9pYGOdS4d0D4g3/aDRsZubNm3yGYDonBHdvGml6+bOqhRvvnpXfKV779c7XY+hkbCI4+8v0mz2k+f0MHE6xO/001+weUjXL9JsZJsXX+lBXSaHqTOtO/f61T/W7OrbV1vyN133q7LEkW0+qafiV6YstzZi1WV+PyP8Sdc2osc7o41QT8W2TFpXVu9mQT8jCuv7yZ/0/HzuHTt2zHxXW/RqrV4N1nt06EpU3nM5NEjRFTHd52V06dLFrKJ15513mse6BK8GKHqxRgMRDSr0yqz2Znjn8c033zRXijXoUe3bt5cnn3zSXNX94osvzCpaej6RlzKFYj1RJsoU4Ufefb2mxAQg2gWlV06qVatW1FkBAAA+6In+JZdc4nqswYPSAEInhPtDh15b9/FQ1113nem1ePTRR2X37t2mV0nnc3gHMzpM66mnnpIff/zRlaYBi/aGdO/e3QxH0QnqAOxR7AIQ7Qb1vkKiw5X0ColuOpejV69eZhUs/SDS8aG6pJ6udAEAAIonvR9HXkZ9//HHH36laW+I1SPiiwYk2f2uBi66ASjhAUhOV0h0uTztrtWrFAcPHjRds9odq12o2Q2xAgAAAFC8RATbFZL58+fbmh8AAAAAIXwndAAAAAChiwAEAAAAgG0IQAAAAADYhgAEAAAAgG0IQAAAAACU3FWwAABA4GzdutXj5n0o/vSO7Hp3eCBUEYAAABDCwUdS48Zy/Nixos4K8iCmdGlJXreOIAQhiwAEAIAQpT0fGnxcO3qCVK7bsKizAz/sSdkoH468w9QdAQhCFQEIAAAhToOP6o2bF3U2AMBgEjoAAAAA2xCAAAAAALANAQgAAAAA2xCAAAAAALANAQgAAAAA2xCAAAAAALANAQgAAAAA2xCAAAAAALANAQgAAAAA2xCAAAAAALANAQgAAAAA2xCAAAAAALANAQgAAAAA2xCAAAAAALANAQgAAAAA2xCAAAAAALANAQgAAAAA2xCAAAAAALANAQgAAAAA2xCAAAAAALANAQgAAAAA2xCAAAAAALANAQgAAAAA2xCAAAAAALANAQgAAAAA2xCAAAAAALANAQgAAAAA2xCAAAAAALANAQgAAAAA2xCAAAAAALANAQgAAAAA2xCAAAAAALANAQgAAAAA2xCAAAAAALANAQgAAAAA2xCAAAAAALANAQgAAAAA2xCAAAAAALANAQgAAAAA2xCAAAAAALANAQgAAAAA2xCAAAAAoNjJzMyURx55ROrWrSsxMTFSv359efLJJ8XpdOb4e6+99po0btzY/E6jRo3knXfe8Xh+wYIFctZZZ0lcXJzcdNNNcvLkSddzhw4dMs/9+eefhVYuFMMA5LvvvpMePXpIYmKiOBwOmTNnjsfz2ugeffRRqVatmmlYnTp1ko0bNxZZfgEAABB4zzzzjEyYMEFeffVVWbdunXn87LPPyiuvvOLzd/T1I0aMkMcff1x+++03GTVqlAwePFjmzp1rns/KypLrr79eBg0aJEuWLJFly5bJpEmTXL//4IMPmudq165tSxlLqmIXgKSlpUnz5s1N9JodbXgvv/yyTJw4UX766SeJjY2Vrl27Snp6uu15BQAAQOH48ccf5corr5Tu3btLnTp15JprrpEuXbrIzz//7PN33n33Xbn99tvluuuuk3r16knv3r3ltttuM8GLSk1NNdv//d//ydlnny1XXHGFCW6s4/3yyy9y991321bGkqrYBSCXX365jB49Wnr27HnGc9r78eKLL8rIkSNNg2zWrJnpVtu5c+cZPSUAAAAIXm3btpWvv/5aNmzYYB6vWrVKfvjhB3Ou6MuJEyckOjraI01HzGjQcurUKalUqZIZRfPll1/KsWPH5Pvvvzfnk/rcHXfcIW+88YaEh4cXetlKumIXgOQkJSVFdu/ebYZdWcqVKyetW7c23WgAAAAIDTocSnswkpKSpFSpUnLuuefK0KFD5YYbbvD5Ozoq5r///a8sX77cXLjWIVb6WAMM7fnQ4f0ffvihmUuiPSC6z5tvvlnGjh0rl1xyiQle2rVrZ+aO6NAvFI4ICSIafKgqVap4pOtj6zlf0bBulsOHD5ufGRkZZlNhYWFm07GBulmsdJ0I5T7pyVe6Rs3auK39uqcrfb3SY0RGRmq/jnbtiMP5zzGVMyz8zHSHQ5yOsBzSs8ThlhenwyGSQ7rZh0d6mNmXz/Ss03n3SNfDe+fdV3rQl8lp6kzrzqrfiIgIU/9WvZ7OusPUt3db8pXuq+1Z7SpMnB75pJ6Kb5nC3NqIbgX5jMgt3Wp7ejxXG6Gein2ZtK70REoV9DPCn+8n67tGj2vKRz0V+zKZ84K/24f750R+PyMK4/upsM6NvNNnzJgh06ZNM8OqmjRpImvXrjUBiJ739e3bN9u86/wPHRlz4YUXmjzoa3Wi+fPPP+96zUUXXWSG8Vtl0h4WHVGzYsUKad++vdx5551y2WWXSYsWLcxr9Wdhf5ZnBlk9eb8mpAOQ/BozZoyZhORNG5rOIVHaJaerK2gvy969e12vqVGjhtm0cerKCBYdV1i5cmXzx3D8+HFXukbp8fHxZt/uFaXde/oloJG40n0NHz5cjmglZJ6Uqvs3u17rDAuTHQlJEn0qTRIObnWlZ0REye4K9SU2/aCUP7LLlZ4eGSup8bUl7tg+iUv7J+9pMfFyoGyilD+6W2KPH3SlH46tZLaKh7ZJ9Mk0V/qBstUkLaa8VDmQIhEZ/wRsqfG1JD2yjCTu3ygOt4ateckMi5Dqqes93tcdCY0kPCsj5MoU5XCaOtu3b5+pR/2DbNWqlanL5ORkj65encekV1q2bNni0Vunq3LoB+P27dtd6b7anl6tUXVKnZRKbvmhnopvmSpGpbvaiNZ/QT4jLC1btjQrtKxevdqVZrU9bSN6vDpR6RKdup56CoIyaRvRq63mGAX8jPDn+0nbotVGjp5Ko56CoEyHwk6XY//+/R6fB/n5jCis76fCOjfyLtM999xjggfNg57w6v/Xr19vzuk0IPFVJp1Err9boUIFczydV1y6dGmzspXOGfYuk05S18BFT941j1qOrVu3yjnnnCOff/65CUAK87P8UBDWk87ZLgiHM7e1zIqQRmGzZ8+Wq666yjzWStA3WN8YbQyWiy++2Dx+6aWX/O4BqVmzpvlg1iXYiiJ6XLlypeniu23KZ1I9qXmxvhoTileY8lOmHcmrZNKA7rJ48WJX+yvMKxc61lU/sIZMWyCJjZoWSplCsZ6Kskw7k1fLxL/byHnnnVfoPSA6xEDHSA+a8tnpNkI9Ffsy7Vy/Rib07yZLly41nyOFfXVTvy/1u0bbSLWk5tRTEJRp+/o18uoNnc1kaPdznZJyZd09PSEhwQQbGlBYZXr66adl6tSp8vvvv/tdpg4dOkj16tVNT4p3mSZPnizz5s2TWbNmmZN0DVr0xF9P9nv16mV+d9iwYfSAiGfe9Vy6YsWK5j2zzqVDtgdE14GuWrWqmZBk/VHqG6DdaDpxyJeoqCizedNK182dVSnefE1I8pXuvV/vdD3G6XWnHX9/mGWznzynh4nTIX6nn/7wy0O6fkBnI9u8+EoP6jI5TJ1p3bnXr/6xZlffvtqSv+m6X5UljmzzST0VvzJlubURqy7z+xnhT7q2ET3eGW2Eeiq2ZdK6sno3C/oZ4c/3k/Vdo8fVfBRGmUKxnoq2TKcfeH/X5PczojC+nwrr3Mib3pZB52bo+Z/O19CAevz48aYX0fod7bnYsWOHGUKledSr/TrhXOcHHzhwQMaNG2eW49Xn3Y+jr9VAQ0fJ6EUjfVy+fHnTw6BzP3S1rW+++cYsfBTIMoVKPUX4eE3QBiBHjx6VTZs2uR5rd5L2FmhEWqtWLTP2T1fJatiwoWmQeoMavWeI1UsCAACA4Kf3+9DzPF0yd8+ePeZ8T5fY1fvBWXbt2mWGS1n0Kv0LL7xghmrpfCudWK7L6+oyvt50ud17773X7NeivSv9+vUzt3zQ4Ys6RAqBV+wCEB1fpo3FomP4lDYGbRT333+/GXemazofPHjQTA7SrjPvJdcAAAAQvMqWLWtuv6CbL3pu6E57MLSnxB86yd3bBRdc4LovCEpQAKJj7XKalqLdVE888YTZAAAAAASXoLoPCAAAAIDgRgACAAAAwDYEIAAAAABsQwACAAAAwDYEIAAAAABsQwACAAAAoOQuwwsAAAD76I389K7gCB4JCQnmBt3BigAEAACgBAcfSY0by/Fjx4o6K8iDmNKlJXnduqANQghAAAAASijt+dDg49rRE6Ry3YZFnR34YU/KRvlw5B2m7ghAAAAAEJQ0+KjeuHlRZwMlBJPQAQAAANiGAAQAAACAbQhAAAAAANiGAAQAAACAbQhAAAAAANiGAAQAAACAbQhAAAAAANiGAAQAAACAbQhAAAAAANiGAAQAAACAbQhAAAAAANiGAAQAAACAbQhAAAAAANiGAAQAAACAbQhAAAAAANiGAAQAAACAbQhAAAAAANiGAAQAAACAbQhAAAAAANiGAAQAAACAbQhAAAAAANiGAAQAAACAbQhAAAAAANiGAAQAAACAbQhAAAAAANiGAAQAAACAbQhAAAAAANiGAAQAAACAbQhAAAAAANiGAAQAAACAbQhAAAAAANiGAAQAAACAbQhAAAAAANiGAAQAAACAbQhAAAAAANiGAAQAAACAbQhAAAAAANiGAAQAAACAbQhAAAAAANiGAAQAAACAbQhAAAAAANiGAAQAAACAbYIuAHn88cfF4XB4bElJSUWdLQAAAAB+iJAgdPbZZ8tXX33lehwREZTFAAAAAEqcoDxz14CjatWqRZ0NAAAAACUhANm4caMkJiZKdHS0tGnTRsaMGSO1atXy+foTJ06YzXL48GHzMyMjw2wqLCzMbFlZWWazWOmZmZnidDpzTQ8PDzfDwqz9uqcrfb3SY0RGRoqIU8TpFIfzn2MqZ1j4mekOhzgdYTmkZ4nDLS9Oh0Mkh3SzD4/0MLMvn+lZp/Puka6H9867r/SgL5PT1JnWnVW/Ggxr/Vv1ejrrDlPf3m3JV7qvtme1qzBxeuSTeiq+ZQpzayO6FeQzIrd0q+3p8VxthHoq9mXSuipVqpT5f0E/I/z5frK+a/S4pnzUU7Evkzkv+Lt9uH9O5PczIrfvJ/1ptUnqKTjK5PA6H7H7HFZ5vybkA5DWrVvL1KlTpVGjRrJr1y4ZNWqU/Otf/5K1a9dK2bJls/0dDVD0dd5WrFghsbGx5v+VKlWS+vXrS0pKiuzdu9f1mho1aphtw4YNcujQIVd6vXr1pHLlyua4x48fd6XrfJT4+Hizb/eKatasmWksy5YtM491X8OHD5cjWgmZJ6Xq/s2u1zrDwmRHQpJEn0qThINbXekZEVGyu0J9iU0/KOWP7HKlp0fGSmp8bYk7tk/i0v7Je1pMvBwomyjlj+6W2OMHXemHYyuZreKhbRJ9Ms2VfqBsNUmLKS9VDqRIRMY/AVtqfC1Jjywjifs3isOtYWteMsMipHrqeo/3dUdCIwnPygi5MkU5nKbO9u3bZ+pR/yBbtWpl6jI5Odn12piYGGnevLmkpqbKli1bXOnlypWTxo0by86dO2X79u2udF9t79SpU+ZnnVInpZJbfqin4lumilHprjai9V+QzwhLy5Yt5eTJk7J69WpXmtX2tI3o8epEpUt06nrqKQjKpG3k5ptvPn2MAn5G+PP9pG3RaiNHT6VRT0FQpkNhp8uxf/9+j8+D/HxG+PP9pK+55pprzP+pp+AoU+XwDI/zEbvPYc37mPbPe5QfDqd76BOEDh48KLVr15Zx48bJwIED/e4BqVmzpqm4uLg4k2Z39Lhy5Upp166d3DblM6me1JwoPwjKtCN5lUwa0F0WL14sLVq0KPQekFWrVpkvliHTFkhio6aFUqZQrKeiLNPO5NUy8e82ct555xV6D8jy5culbdu2MmjKZ6fbCPVU7Mu0c/0amdC/myxdutR8jhR2D4ieSOh3jbaRaknNqacgKNP29Wvk1Rs6yy+//OL6rinMHhA9H9HPkdunfiHVk5pST0FQpp3rVsobbucjRdEDoufSFStWNIGNdS4d0j0g3jRSO+uss2TTpk0+XxMVFWU2b/rH6T2B3aoUb9ab72+6r4nxVroeQ69YiDj+blDZ7CfP6WHidIjf6af/ePKQrn8k2cg2L77Sg7pMDlNnWnfu9at/rNnVt6+25G+67ldlaWdrNvmknopfmbLc2ohVl/n9jPAnXduIHu+MNkI9FdsyaV1ZvZsF/Yzw5/vJ+q7R42o+CqNMoVhPRVum0w+8v2vy+xmR2/eT/rTaJPUUHGVy+jgfsescNqfXhOwyvN6OHj0qmzdvlmrVqhV1VgAAAACEWgBy3333yaJFi+SPP/6QH3/8UXr27GkiuD59+hR11gAAAACE2hAsnZinwYbO39BJNxdddJEZS6v/BwAAAFC8BV0A8v777xd1FgAAAACUlCFYAAAAAIIXAQgAAAAA2xCAAAAAALANAQgAAAAA2xCAAAAAALANAQgAAAAA2xCAAAAAALANAQgAAAAA2xCAAAAAALANAQgAAAAA2xCAAAAAALANAQgAAAAA2xCAAAAAALANAQgAAAAA2xCAAAAAALANAQgAAAAA2xCAAAAAALANAQgAAAAA2xCAAAAAALANAQgAAAAA2xCAAAAAALANAQgAAAAA2xCAAAAAALANAQgAAAAA2xCAAAAAALANAQgAAAAA2xCAAAAAALANAQgAAAAA2xCAAAAAALANAQgAAAAA2xCAAAAAALANAQgAAAAA2xCAAAAAALANAQgAAAAA2xCAAAAAALANAQgAAAAA2xCAAAAAALANAQgAAAAA2xCAAAAAALANAQgAAAAA2xCAAAAAALANAQgAAAAA2xCAAAAAALANAQgAAAAA2xCAAAAAALANAQgAAAAA2xCAAAAAALANAQgAAAAA2xCAAAAAALANAQgAAAAA2xCAAAAAALBN0AYgr732mtSpU0eio6OldevW8vPPPxd1lgAAAACEYgDywQcfyD333COPPfaY/Prrr9K8eXPp2rWr7Nmzp6izBgAAACDUApBx48bJrbfeKgMGDJAmTZrIxIkTpXTp0jJ58uSizhoAAACAUApATp48KcuXL5dOnTq50sLCwszjJUuWFGneAAAAAOQsQoJMamqqZGZmSpUqVTzS9XFycnK2v3PixAmzWQ4dOmR+7t+/XzIyMlxBjG5ZWVlms1jpekyn05lrenh4uDgcDtd+3dOVvl4dPnxYSpUqJTvWrZaTx46KwyvPTpPizDbdIf8cz4700498pesz4md6cJdp759bTJ1p3WnbUREREab+rXo1v+twmPr2bku+0n21vSNHjpifu5JXy6ljRwulTKFYT0VZpn1b/2kjBw8eLNBnRG7p2va0jejxdru1EeqpeJdJ24jW3dGjR00bKchnhD/fT9Z3jbYR/a6hnop/mfS7Rrl/1+T3M8Kf7yc9jr5Wz0e8v2sCVaZQrKeiLFPqn5s9zkfsPodVemyTH7ffzwuHM7+/WUR27twp1atXlx9//FHatGnjSr///vtl0aJF8tNPP53xO48//riMGjXK5pwCAAAAoWvbtm1So0aN0O8BSUhIMJHYX3/95ZGuj6tWrZrt74wYMcJMWrdodKgRY8WKFU2kh8DSqLhmzZqmUcbFxRV1dlAM0UaQE9oHckMbQW5oI4VL+y+0Fz4xMTFfvx90AUhkZKScf/758vXXX8tVV13lCij08Z133pnt70RFRZnNXXx8vC35Lcn0D54/euSENoKc0D6QG9oIckMbKTzlypXL9+8GXQCitDejX79+0rJlS7ngggvkxRdflLS0NLMqFgAAAIDiKygDkOuuu0727t0rjz76qOzevVtatGgh8+bNO2NiOgAAAIDiJSgDEKXDrXwNuULR0uFuepNI72FvgIU2gpzQPpAb2ghyQxsp3oJuFSwAAAAAwSvobkQIAAAAIHgRgAAAAACwDQEIAAAAANsQgKDY27Rpk1liWe+0qZPJ6tatK3369JFly5YVddZQDHTo0MHcUFQ3bR/Vq1eXHj16yEcffVTUWUMxbCO66YqJ//nPf+TPP/8s6qyhGLcTaxs0aFBRZw3FyIwZM8wNsQcPHlzUWQlqBCDI0cmTJ4v0+Bpk6I0nN2zYIG+88Yb8/vvvMnv2bElKSpJ77723SPOG4tFG1K233iq7du2SzZs3y//+9z9p0qSJ9O7dW2677baizhqKWRvZuXOnfPzxx+buyDfeeGNRZwvFtJ24b88++2xRZwvFpH2ot956S+6//34TiKSnpxd1doIWAUgJcuTIEbnhhhskNjZWqlWrJuPHjzdXfIYOHep6TZ06deTJJ5+Uvn37mjuHWidwelJ39tlnmyvM+poXXnjBY996lWjOnDln3G1+6tSp5v9//PGHec37778vbdu2lejoaDnnnHNk0aJFPvOrC7T1799fGjZsKN9//710795d6tevb+77okvr6UkESnYbsZQuXVqqVq1qeskuvPBCeeaZZ0zA+uabb8pXX30VoHcHodBGNM/aRnQZ919//TVA7wpCrZ24b9xFO/CCtX2kpKTIjz/+KA8++KCcddZZ9LQXAAFICaJ3kF+8eLF88sknsmDBAnNSn90X8PPPPy/NmzeXFStWyCOPPCLLly+Xa6+91lxRXrNmjTz++OMm3fpjzovhw4ebngvdd5s2bcxQmX379mX72pUrV8pvv/1mXh8WdmZT1Q8UlOw2kpN+/fpJ+fLl+YIIsFBoI/v375cPP/xQWrdunedjo+S0ExSeYG0fU6ZMMRdDy5UrZ3pQtTcE+aT3AUHoO3z4sLNUqVLOmTNnutIOHjzoLF26tPPuu+92pdWuXdt51VVXefzu9ddf7+zcubNH2vDhw51NmjRxPdamNHv2bI/XlCtXzjllyhTz/5SUFPOasWPHup4/deqUs0aNGs5nnnkm2zx/8MEH5nd+/fXXfJcbod1G1MUXX+yRP3etW7d2Xn755X6UHqHeRjTfsbGxJq+6j7POOsvsD4EXCu3EfXvvvffy9T4gtNpHZmams2bNms45c+aYx3v37nVGRkY6t2zZko93AfSAlBBbtmyRU6dOyQUXXOBK0wi+UaNGZ7y2ZcuWHo/XrVsn7dq180jTxxs3bpTMzMw85UOvMlgiIiLMsXT/2eEemfYKxjaSG21D2tWOwAjmNqLDPbRXddWqVfLDDz9IgwYNpEuXLmYoCAIrFNqJ+3bFFVfk6bgIzfahPTVpaWnSrVs38zghIUE6d+4skydPztNxcVrE3z8BFx2TmVd6kucdMOgHTEHo+EqVnJws5557boH2hdBsIznRLyP9UmrVqlWhHQPB00b0BEeDDqU/deiEjj3/4IMP5JZbbgnIMRBa7QRFrzi1D/3M0OGbMTExrrSsrCxZvXq1jBo1Ktuh4vCNd6uEqFevnpQqVUp++eUXV9qhQ4fM6lK5ady4sRmr6U4fa4CgS9GpSpUqmdVCLHrid+zYsTP2tXTpUtf/MzIyzHhO3X92dLK5rmakE8z0j9zbwYMHc807QruN5OTtt9+WAwcOSK9evfL8uwj9NmId8/jx43n6PZSsdoLAC8b2oXNDdOEbnbju3jum80f0e+bLL7/0s/Sw0ANSQpQtW9ZMytVJVxUqVJDKlSublaQ0Ys9tiIpO0tKryLoaxXXXXSdLliyRV199VV5//XXXay699FKTpl2aeuX5gQceMB8w3l577TWzqpX+keuqF/qHe/PNN2d7XM2XTvjq1KmT/Otf/5KHH37YLL979OhRmTt3rvmD92fVCoRuG7Hol8vu3bvNl8j27dvNUs36u3fccYdccsklBXhXEGptRP31118mH7r6jQ7DQmCFSjux6GpLuqAFSm77ePfdd6VixYpmArx3HnVIlvaOXHbZZfl+T0qkop6EAnsnfukELp3oVbVqVee4ceOcF1xwgfPBBx/0mPQ1fvz4M3531qxZZpKXThyrVauW87nnnvN4fseOHc4uXbqYCXsNGzZ0fv7559lO+po+fbo5pk7c0v198803ueZ7/fr1zr59+zoTExPN72ke+/Tpw+T0QhCMbUQnjurv6aa/U61aNee///1v50cffRSw9wWh00Z0K1++vEnz5/MHJbedWFvXrl0D9r4gONtH06ZNnf/3f//nc8Ec3YdOSof/HPpPUQdBKBo6mUrvGq1DnAYOHFiox9J1t/UO5tpdqUOrEBxoI8gNbQT+oJ0gJ7SPkochWCWI/rHphG5deULHWz7xxBMm/corryzqrKGYoI0gN7QR+IN2gpzQPkAAUsLoTX3Wr18vkZGRcv7555ub/+hScoCFNoLc0EbgD9oJckL7KNkYggUAAADANizDCwAAAMA2BCAAAAAAbEMAAgAAAMA2BCAAAAAAbEMAAgAAAMA2BCAAgKBx9913y2233SZZWVlFnRUAQD4RgAAAgsK2bdukUaNG8sYbb0hYGF9fABCsuA8IAKDE6tChg7Ro0UJefPHFos4KAJQYXEICgBJi9+7dZghTgwYNJDo6WqpUqSLt2rWTCRMmyLFjx6S46t+/vzgcjjO2yy67zPUafTxnzpw87/ujjz6SJ598MsA5BgDkJCLHZwEAIWHLli0m2IiPj5enn35amjZtKlFRUbJmzRqZNGmSVK9eXa644opsf/fUqVNSqlQpKUoabEyZMsUjTfNfUBUqVCjwPgAAeUMPCACUAP/3f/8nERERsmzZMrn22mulcePGUq9ePbnyyivls88+kx49enj0JmiviAYksbGx8tRTT8nUqVNN8OJOexz0tZbHH3/cDGfSORo1a9aU0qVLm2MdOnTI9RqdPP7EE09IjRo1TAChr583b16u+dfXVq1a1WMrX768ea5OnTrmZ8+ePU1+rMdWft59912TVq5cOendu7ccOXLEYwjW0KFDXY9PnDghDzzwgMm/HlN7i9566y3X84sWLZILLrjAPFetWjV58MEHJSMjI8/1AQAlGQEIAIS4ffv2yZdffimDBw82AUV23AMJ6+RdT+i1h+Tmm2/2+1ibNm2SDz/8UObOnWsCixUrVpjgx/LSSy/JCy+8IM8//7ysXr1aunbtagKdjRs35rt8v/zyi/mpPSS7du1yPVabN282gdKnn35qNg0gxo4d63Nfffv2lRkzZsjLL78s69atM8FUmTJlzHM7duyQbt26SatWrWTVqlUmSNPgZPTo0fnOOwCURAzBAoAQp0GBrjeiK0i5S0hIkPT0dPN/DU6eeeYZ13PXX3+9DBgwIM/H0v298847ZkiXeuWVV6R79+4m6NBeCw08tIdBeyKUHvPbb781k8Bfe+01n/vV4MEKBCwPPfSQ2SpVqmQeaw+NHsOd9rho703ZsmXN45tuukm+/vpr06vjbcOGDSZ4WrBggXTq1MmkaS+R5fXXXzc9I6+++qoJ2JKSkmTnzp2mPI8++igrcwGAnwhAAKCE+vnnn80J+g033GCGHrlr2bJlvvZZq1YtV/Ch2rRpY46xfv16MyRLT9h1Loo7faw9Cjm55JJLTI9DXudv6NArK/hQOmxqz5492b525cqVEh4eLhdffHG2z2uPiJbHvbdI83706FHZvn27KTsAIHcEIAAQ4nQeg540axDgzrq6HxMTc8bveA/V0qv73qu26+R0u2h+tBx55T15Xt8HXzcxzO59AAAEHv3FABDiKlasKJ07dzZDh9LS0vK1Dx3mpJO33X9fewy8bd261fRyWJYuXWqCFx3+FRcXJ4mJibJ48WKP39HHTZo0kYLQQCMzM7NA+9CVwTQ40Xki2dGJ+0uWLPEIxDTv2sOik+oBAP4hAAGAEkDnL+hqTTq06oMPPjDDibRH5L333pPk5GQz9CgnrVu3NkOodM6FTuyePn26mVvhTe8v0q9fPzOk6vvvv5chQ4aYlbCsuRnDhw838z40D3p8XUVKAxm9P0lOdIiY3sfEfUtNTfUYaqVzOzT9wIED+XqPdB+ad510rxPXU1JSZOHChWZeiNLJ9Ho39rvuusu8Zx9//LE89thjcs899zD/AwDygE9MACgB6tevb1ak0snVI0aMkObNm5tgRCeJ33fffbnejE/nW2iw8vnnn5ueAl0pSlfK8qbDpK6++mqzWlSXLl2kWbNmJvixaECiJ+z33nuv2Y+ulPXJJ59Iw4YNczy+vk7nb7hvF110ket5neSuk8d1kvi5554r+aXzTK655hoTbOgk81tvvdXV66NzW7T8OndG379BgwbJwIEDZeTIkfk+HgCURA6n96BeAADyQQMS7TnIbmgWAAAWekAAAAAA2IYABAAAAIBtGIIFAAAAwDb0gAAAAACwDQEIAAAAANsQgAAAAACwDQEIAAAAANsQgAAAAACwDQEIAAAAANsQgAAAAACwDQEIAAAAANsQgAAAAACwDQEIAAAAANsQgAAAAACwDQEIAAAAANsQgAAAAACwDQEIAAAAALHL/wP5EcESH5kJZwAAAABJRU5ErkJggg==)\n",
        "\n",
        "Ao verificar essas discrepâncias, percebe-se que a distribuição não é uniforme, o que pode impactar em análises posteriores, como por exemplo, comparações de desempenho escolar entre raças."
      ]
    },
    {
      "cell_type": "code",
      "execution_count": 7,
      "metadata": {
        "colab": {
          "base_uri": "https://localhost:8080/"
        },
        "id": "Md2kJ-UGj1NM",
        "outputId": "a055000b-bc53-4364-97af-09d29586950e"
      },
      "outputs": [
        {
          "name": "stdout",
          "output_type": "stream",
          "text": [
            "race/ethnicity\n",
            "group C    31.9\n",
            "group D    26.2\n",
            "group B    19.0\n",
            "group E    14.0\n",
            "group A     8.9\n",
            "Name: proportion, dtype: float64\n"
          ]
        }
      ],
      "source": [
        "alunos_por_etnia = df['race/ethnicity'].value_counts(normalize=True) * 100\n",
        "print(alunos_por_etnia)"
      ]
    },
    {
      "cell_type": "markdown",
      "metadata": {
        "id": "aJi4dTAdkYBP"
      },
      "source": [
        "## 5. Discretização da nota de matemática em faixas (ex: A, B, C...)\n",
        "\n",
        "Na análise e interpretação das notas de matemática, as variáveis quantitativas foram transformadas em variáveis qualitativas por meio de discretização. Essa medida permite agrupar os alunos em faixas de desempenho, tornando possível a comparação entre grupos e a identificação de padrões de desempenho.\n",
        "\n",
        "O sistema adotado para a discretização está exposto no código a seguir.\n",
        "\n"
      ]
    },
    {
      "cell_type": "code",
      "execution_count": 8,
      "metadata": {
        "colab": {
          "base_uri": "https://localhost:8080/",
          "height": 432
        },
        "id": "DLDLItgBkaUD",
        "outputId": "8aea57ba-35d5-4dce-8369-29fdd3af5484"
      },
      "outputs": [
        {
          "name": "stdout",
          "output_type": "stream",
          "text": [
            "Discretização da Nota de Matemática:\n"
          ]
        },
        {
          "data": {
            "text/html": [
              "<div>\n",
              "<style scoped>\n",
              "    .dataframe tbody tr th:only-of-type {\n",
              "        vertical-align: middle;\n",
              "    }\n",
              "\n",
              "    .dataframe tbody tr th {\n",
              "        vertical-align: top;\n",
              "    }\n",
              "\n",
              "    .dataframe thead th {\n",
              "        text-align: right;\n",
              "    }\n",
              "</style>\n",
              "<table border=\"1\" class=\"dataframe\">\n",
              "  <thead>\n",
              "    <tr style=\"text-align: right;\">\n",
              "      <th></th>\n",
              "      <th>Faixa</th>\n",
              "      <th>Intervalo de Notas</th>\n",
              "      <th>Categoria</th>\n",
              "    </tr>\n",
              "  </thead>\n",
              "  <tbody>\n",
              "    <tr>\n",
              "      <th>0</th>\n",
              "      <td>A</td>\n",
              "      <td>85–100</td>\n",
              "      <td>Excelente Desempenho</td>\n",
              "    </tr>\n",
              "    <tr>\n",
              "      <th>1</th>\n",
              "      <td>B</td>\n",
              "      <td>70–84</td>\n",
              "      <td>Bom Desempenho</td>\n",
              "    </tr>\n",
              "    <tr>\n",
              "      <th>2</th>\n",
              "      <td>C</td>\n",
              "      <td>60–69</td>\n",
              "      <td>Desempenho Médio</td>\n",
              "    </tr>\n",
              "    <tr>\n",
              "      <th>3</th>\n",
              "      <td>D</td>\n",
              "      <td>50–59</td>\n",
              "      <td>Desempenho Baixo</td>\n",
              "    </tr>\n",
              "    <tr>\n",
              "      <th>4</th>\n",
              "      <td>F</td>\n",
              "      <td>0–49</td>\n",
              "      <td>Desempenho Muito Baixo</td>\n",
              "    </tr>\n",
              "  </tbody>\n",
              "</table>\n",
              "</div>"
            ],
            "text/plain": [
              "  Faixa Intervalo de Notas               Categoria\n",
              "0     A             85–100    Excelente Desempenho\n",
              "1     B              70–84          Bom Desempenho\n",
              "2     C              60–69        Desempenho Médio\n",
              "3     D              50–59        Desempenho Baixo\n",
              "4     F               0–49  Desempenho Muito Baixo"
            ]
          },
          "metadata": {},
          "output_type": "display_data"
        },
        {
          "name": "stdout",
          "output_type": "stream",
          "text": [
            "Tabela Completa de Frequências das Faixas de Nota em Matemática:\n"
          ]
        },
        {
          "data": {
            "text/html": [
              "<div>\n",
              "<style scoped>\n",
              "    .dataframe tbody tr th:only-of-type {\n",
              "        vertical-align: middle;\n",
              "    }\n",
              "\n",
              "    .dataframe tbody tr th {\n",
              "        vertical-align: top;\n",
              "    }\n",
              "\n",
              "    .dataframe thead th {\n",
              "        text-align: right;\n",
              "    }\n",
              "</style>\n",
              "<table border=\"1\" class=\"dataframe\">\n",
              "  <thead>\n",
              "    <tr style=\"text-align: right;\">\n",
              "      <th></th>\n",
              "      <th>Faixa</th>\n",
              "      <th>Frequência Absoluta</th>\n",
              "      <th>Frequência Relativa</th>\n",
              "      <th>Frequência Acumulada</th>\n",
              "      <th>Percentual (%)</th>\n",
              "    </tr>\n",
              "  </thead>\n",
              "  <tbody>\n",
              "    <tr>\n",
              "      <th>0</th>\n",
              "      <td>A</td>\n",
              "      <td>117</td>\n",
              "      <td>0.117</td>\n",
              "      <td>117</td>\n",
              "      <td>11.7</td>\n",
              "    </tr>\n",
              "    <tr>\n",
              "      <th>1</th>\n",
              "      <td>B</td>\n",
              "      <td>292</td>\n",
              "      <td>0.292</td>\n",
              "      <td>409</td>\n",
              "      <td>29.2</td>\n",
              "    </tr>\n",
              "    <tr>\n",
              "      <th>2</th>\n",
              "      <td>C</td>\n",
              "      <td>268</td>\n",
              "      <td>0.268</td>\n",
              "      <td>677</td>\n",
              "      <td>26.8</td>\n",
              "    </tr>\n",
              "    <tr>\n",
              "      <th>3</th>\n",
              "      <td>D</td>\n",
              "      <td>188</td>\n",
              "      <td>0.188</td>\n",
              "      <td>865</td>\n",
              "      <td>18.8</td>\n",
              "    </tr>\n",
              "    <tr>\n",
              "      <th>4</th>\n",
              "      <td>F</td>\n",
              "      <td>135</td>\n",
              "      <td>0.135</td>\n",
              "      <td>1000</td>\n",
              "      <td>13.5</td>\n",
              "    </tr>\n",
              "  </tbody>\n",
              "</table>\n",
              "</div>"
            ],
            "text/plain": [
              "  Faixa  Frequência Absoluta  Frequência Relativa  Frequência Acumulada  \\\n",
              "0     A                  117                0.117                   117   \n",
              "1     B                  292                0.292                   409   \n",
              "2     C                  268                0.268                   677   \n",
              "3     D                  188                0.188                   865   \n",
              "4     F                  135                0.135                  1000   \n",
              "\n",
              "   Percentual (%)  \n",
              "0            11.7  \n",
              "1            29.2  \n",
              "2            26.8  \n",
              "3            18.8  \n",
              "4            13.5  "
            ]
          },
          "metadata": {},
          "output_type": "display_data"
        }
      ],
      "source": [
        "\n",
        "\n",
        "criterios = pd.DataFrame({\n",
        "    'Faixa': ['A', 'B', 'C', 'D', 'F'],\n",
        "    'Intervalo de Notas': ['85–100', '70–84', '60–69', '50–59', '0–49'],\n",
        "    'Categoria': [\n",
        "        'Excelente Desempenho',\n",
        "        'Bom Desempenho',\n",
        "        'Desempenho Médio',\n",
        "        'Desempenho Baixo',\n",
        "        'Desempenho Muito Baixo'\n",
        "    ]\n",
        "})\n",
        "\n",
        "print(\"Discretização da Nota de Matemática:\")\n",
        "display(criterios)\n",
        "\n",
        "def categorizar_math(score):\n",
        "    if score >= 85:\n",
        "        return 'A'\n",
        "    elif score >= 70:\n",
        "        return 'B'\n",
        "    elif score >= 60:\n",
        "        return 'C'\n",
        "    elif score >= 50:\n",
        "        return 'D'\n",
        "    else:\n",
        "        return 'F'\n",
        "\n",
        "df['math_faixa'] = df['math score'].apply(categorizar_math)\n",
        "\n",
        "freq_abs = df['math_faixa'].value_counts().sort_index()\n",
        "\n",
        "freq_rel = freq_abs / freq_abs.sum()\n",
        "\n",
        "freq_acum = freq_abs.cumsum()\n",
        "\n",
        "freq_perc = round(freq_rel * 100, 1)\n",
        "\n",
        "tabela_completa = pd.DataFrame({\n",
        "    'Faixa': freq_abs.index,\n",
        "    'Frequência Absoluta': freq_abs.values,\n",
        "    'Frequência Relativa': freq_rel.values,\n",
        "    'Frequência Acumulada': freq_acum.values,\n",
        "    'Percentual (%)': freq_perc.values\n",
        "})\n",
        "\n",
        "ordem_faixas = ['A', 'B', 'C', 'D', 'F']\n",
        "tabela_completa = tabela_completa.set_index('Faixa').reindex(ordem_faixas).reset_index()\n",
        "\n",
        "print(\"Tabela Completa de Frequências das Faixas de Nota em Matemática:\")\n",
        "display(tabela_completa)"
      ]
    },
    {
      "cell_type": "markdown",
      "metadata": {
        "id": "_x1bqNtqkzMJ"
      },
      "source": [
        "## 6. Associação entre gênero e curso preparatório\n",
        "\n",
        "Na análise a seguir, foi estudado a associação entre as variáveis de gênero e a conclusão do curso preparatório, que revela que há uma . A partir dos dados, **observou-se que a proporção de alunas que completaram o curso preparatório foi maior do que a de alunos**. Isso sugere que meninas tendem a participar mais desse tipo de preparação do que meninos.\n",
        "\n",
        "![image.png](data:image/png;base64,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)"
      ]
    },
    {
      "cell_type": "code",
      "execution_count": 9,
      "metadata": {
        "colab": {
          "base_uri": "https://localhost:8080/",
          "height": 236
        },
        "id": "5CyGRP_Rk2Eg",
        "outputId": "7a4e793c-4eb9-4f6a-92c3-715ef69821ba"
      },
      "outputs": [
        {
          "name": "stdout",
          "output_type": "stream",
          "text": [
            "Tabela de Contingência:\n"
          ]
        },
        {
          "data": {
            "text/html": [
              "<div>\n",
              "<style scoped>\n",
              "    .dataframe tbody tr th:only-of-type {\n",
              "        vertical-align: middle;\n",
              "    }\n",
              "\n",
              "    .dataframe tbody tr th {\n",
              "        vertical-align: top;\n",
              "    }\n",
              "\n",
              "    .dataframe thead th {\n",
              "        text-align: right;\n",
              "    }\n",
              "</style>\n",
              "<table border=\"1\" class=\"dataframe\">\n",
              "  <thead>\n",
              "    <tr style=\"text-align: right;\">\n",
              "      <th>test preparation course</th>\n",
              "      <th>completed</th>\n",
              "      <th>none</th>\n",
              "    </tr>\n",
              "    <tr>\n",
              "      <th>gender</th>\n",
              "      <th></th>\n",
              "      <th></th>\n",
              "    </tr>\n",
              "  </thead>\n",
              "  <tbody>\n",
              "    <tr>\n",
              "      <th>female</th>\n",
              "      <td>184</td>\n",
              "      <td>334</td>\n",
              "    </tr>\n",
              "    <tr>\n",
              "      <th>male</th>\n",
              "      <td>174</td>\n",
              "      <td>308</td>\n",
              "    </tr>\n",
              "  </tbody>\n",
              "</table>\n",
              "</div>"
            ],
            "text/plain": [
              "test preparation course  completed  none\n",
              "gender                                  \n",
              "female                         184   334\n",
              "male                           174   308"
            ]
          },
          "metadata": {},
          "output_type": "display_data"
        },
        {
          "name": "stdout",
          "output_type": "stream",
          "text": [
            "V de Cramer: 0.004\n",
            "Coeficiente Phi: 0.004\n",
            "Estatística Qui-Quadrado: 0.016\n",
            "Diferença de proporções (F - M): -0.006\n"
          ]
        }
      ],
      "source": [
        "from scipy.stats import chi2_contingency\n",
        "from math import sqrt\n",
        "\n",
        "contingencia = pd.crosstab(df['gender'], df['test preparation course'])\n",
        "\n",
        "\n",
        "chi2, p_valor, dof, expected = chi2_contingency(contingencia)\n",
        "\n",
        "n = contingencia.to_numpy().sum()\n",
        "k = min(contingencia.shape) - 1\n",
        "phi = sqrt(chi2 / n)\n",
        "v_cramer = sqrt(chi2 / (n * k))\n",
        "\n",
        "p_fem = df[df['gender'] == 'female']['test preparation course'].value_counts(normalize=True).get('completed', 0)\n",
        "p_masc = df[df['gender'] == 'male']['test preparation course'].value_counts(normalize=True).get('completed', 0)\n",
        "dif_prop = round(p_fem - p_masc, 3)\n",
        "\n",
        "print(\"Tabela de Contingência:\")\n",
        "display(contingencia)\n",
        "\n",
        "print(f\"V de Cramer: {v_cramer:.3f}\")\n",
        "print(f\"Coeficiente Phi: {phi:.3f}\")\n",
        "print(f\"Estatística Qui-Quadrado: {chi2:.3f}\")\n",
        "print(f\"Diferença de proporções (F - M): {dif_prop:.3f}\")\n"
      ]
    },
    {
      "cell_type": "markdown",
      "metadata": {
        "id": "rvRVgd7BlSGa"
      },
      "source": [
        "## 7. Coeficiente Phi (ou V de Cramer)\n",
        "\n",
        "Como já visto no teste passado, sabe-se que existe uma associação. Então, para medir a força da associação foi usado:\n",
        "\n",
        "\n",
        "\n",
        "---\n",
        "\n",
        "\n",
        "\n",
        "*   Qui-quadrado: O teste do Qui-Quadrado é uma medida estatística usada para verificar se existe uma associação significativa entre duas variáveis qualitativas . Ele compara os valores observados em uma tabela de contingência com os valores esperados sob a hipótese de independência.\n",
        "*   Coeficiente de Phi: O coeficiente Phi é uma medida de associação entre duas variáveis categóricas binárias (ou seja, em uma tabela 2x2). Ele transforma o valor do qui-quadrado em uma escala padrão entre 0 e 1.\n",
        "\n",
        "Em resumo, os dados e os resultados mostram:\n",
        "\n",
        "\n",
        "\n",
        "*   Existe uma diferença de comportamento entre gêneros em relação ao curso preparatório;\n",
        "*   Essa diferença é estatisticamente relevante, mas a força da associação é pequena.\n",
        "\n",
        "\n",
        "\n"
      ]
    },
    {
      "cell_type": "code",
      "execution_count": 10,
      "metadata": {
        "colab": {
          "base_uri": "https://localhost:8080/"
        },
        "id": "5ShAziKWlTmM",
        "outputId": "64052e7e-5740-4a92-9624-d7f3d2efc4a8"
      },
      "outputs": [
        {
          "name": "stdout",
          "output_type": "stream",
          "text": [
            "Coeficiente Phi: 0.004\n",
            "Estatística Qui-Quadrado: 0.016\n"
          ]
        }
      ],
      "source": [
        "print(f\"Coeficiente Phi: {phi:.3f}\")\n",
        "print(f\"Estatística Qui-Quadrado: {chi2:.3f}\")"
      ]
    },
    {
      "cell_type": "markdown",
      "metadata": {
        "id": "rnNAW7Qrledw"
      },
      "source": [
        "## 8. Correlação entre notas de matemática e leitura\n",
        "\n",
        "Para analisar a relação entre duas variáveis quantitativas, como a 'math score' e 'reading score', usa-se:\n",
        "\n",
        "\n",
        "\n",
        "---\n",
        "\n",
        "\n",
        "\n",
        "*   Correlação: Correlação é uma medida estatística que expressa o grau e a direção da relação linear entre duas variáveis numéricas - pode variar no intervalo de -1 a 1.\n",
        "\n",
        "E a partir dela, podemos inferir:\n",
        "\n",
        "\n",
        "\n",
        "---\n",
        "\n",
        "\n",
        "\n",
        "\n",
        "*   A correlação de 0.818 indica uma associação forte e positiva entre as notas de matemática e leitura.\n",
        "*   Isso significa que, em geral, os estudantes que apresentam boas notas em matemática tendem também a ter boas notas em leitura, e o mesmo vale para notas mais baixas.\n",
        "*   Por outro lado, o valor não é exatamente 1, o que indica que, embora exista uma forte relação linear, ela não é 100% simetrica ou perfeita — há variabilidade individual no desempenho dos alunos.\n",
        "\n",
        "\n",
        "\n"
      ]
    },
    {
      "cell_type": "code",
      "execution_count": 11,
      "metadata": {
        "colab": {
          "base_uri": "https://localhost:8080/",
          "height": 125
        },
        "id": "r-__lcHgllNN",
        "outputId": "37619386-896e-48e8-bb18-08e99513802f"
      },
      "outputs": [
        {
          "data": {
            "text/html": [
              "<div>\n",
              "<style scoped>\n",
              "    .dataframe tbody tr th:only-of-type {\n",
              "        vertical-align: middle;\n",
              "    }\n",
              "\n",
              "    .dataframe tbody tr th {\n",
              "        vertical-align: top;\n",
              "    }\n",
              "\n",
              "    .dataframe thead th {\n",
              "        text-align: right;\n",
              "    }\n",
              "</style>\n",
              "<table border=\"1\" class=\"dataframe\">\n",
              "  <thead>\n",
              "    <tr style=\"text-align: right;\">\n",
              "      <th></th>\n",
              "      <th>math score</th>\n",
              "      <th>reading score</th>\n",
              "    </tr>\n",
              "  </thead>\n",
              "  <tbody>\n",
              "    <tr>\n",
              "      <th>math score</th>\n",
              "      <td>1.00000</td>\n",
              "      <td>0.81758</td>\n",
              "    </tr>\n",
              "    <tr>\n",
              "      <th>reading score</th>\n",
              "      <td>0.81758</td>\n",
              "      <td>1.00000</td>\n",
              "    </tr>\n",
              "  </tbody>\n",
              "</table>\n",
              "</div>"
            ],
            "text/plain": [
              "               math score  reading score\n",
              "math score        1.00000        0.81758\n",
              "reading score     0.81758        1.00000"
            ]
          },
          "execution_count": 11,
          "metadata": {},
          "output_type": "execute_result"
        }
      ],
      "source": [
        "corr = df[['math score', 'reading score']].corr(method='pearson')\n",
        "corr"
      ]
    },
    {
      "cell_type": "markdown",
      "metadata": {
        "id": "zaMQGY2olvef"
      },
      "source": [
        "## 9. Diferença nas notas de matemática por nível de escolaridade dos pais\n",
        "\n",
        "O gráfico apresentado é um boxplot, que mostra a distribuição das notas de matemática em função do nível de escolaridade dos pais. Tendo como principais observações de medidas:\n",
        "\n",
        "\n",
        "\n",
        "---\n",
        "\n",
        "\n",
        "\n",
        "*   A mediana é maior para os filhos de pais com bachelor's degree e master's degree.\n",
        "*   Todos os grupos mostram uma variabilidade semelhante nas notas.\n",
        "*   Há outliers negativos (notas muito baixas) especialmente nos grupos com escolaridade mais baixa.\n",
        "*   Existe uma tendência positiva: quanto maior a escolaridade dos pais, maior tende a ser a nota de matemática dos filhos.\n",
        "\n",
        "**Portanto, a nota média de matemática varia conforme o nível de escolaridade dos pais, com tendência de notas mais altas entre alunos cujos pais têm maior formação acadêmica**.\n",
        "\n"
      ]
    },
    {
      "cell_type": "code",
      "execution_count": 12,
      "metadata": {
        "colab": {
          "base_uri": "https://localhost:8080/",
          "height": 666
        },
        "id": "bVey_qLelyUh",
        "outputId": "d2879056-083a-4615-d031-4de92281e200"
      },
      "outputs": [
        {
          "data": {
            "text/plain": [
              "([0, 1, 2, 3, 4, 5],\n",
              " [Text(0, 0, \"bachelor's degree\"),\n",
              "  Text(1, 0, 'some college'),\n",
              "  Text(2, 0, \"master's degree\"),\n",
              "  Text(3, 0, \"associate's degree\"),\n",
              "  Text(4, 0, 'high school'),\n",
              "  Text(5, 0, 'some high school')])"
            ]
          },
          "execution_count": 12,
          "metadata": {},
          "output_type": "execute_result"
        },
        {
          "data": {
            "image/png": "[encoded data removed]",
            "text/plain": [
              "<Figure size 640x480 with 1 Axes>"
            ]
          },
          "metadata": {},
          "output_type": "display_data"
        }
      ],
      "source": [
        "sns.boxplot(x='parental level of education', y='math score', data=df)\n",
        "plt.xticks(rotation=45)"
      ]
    },
    {
      "cell_type": "markdown",
      "metadata": {
        "id": "y57_3ugql55o"
      },
      "source": [
        "## 10. Comparar writing score por curso preparatório\n",
        "\n",
        "Na análise entre os alunos que concluíram o curso e não concluíram, pode-se concluir que:\n",
        "\n",
        "\n",
        "\n",
        "---\n",
        "\n",
        "\n",
        "\n",
        "*   O grupo de alunos que completou o curso preparatório (completed) apresenta uma mediana de notas de escrita visivelmente superior em comparação ao grupo que não o fez (none).\n",
        "*   A distribuição das notas para o grupo que completou o curso é mais compacta. Isso significa que o intervalo interquartil é menor, indicando que os resultados desses alunos são mais consistentes e menos dispersos do que os do outro grupo.\n",
        "\n"
      ]
    },
    {
      "cell_type": "code",
      "execution_count": 13,
      "metadata": {
        "colab": {
          "base_uri": "https://localhost:8080/",
          "height": 467
        },
        "id": "zukZf0aTl7wF",
        "outputId": "0057ae25-9922-4bc8-e661-239b675db643"
      },
      "outputs": [
        {
          "data": {
            "text/plain": [
              "<Axes: xlabel='test preparation course', ylabel='writing score'>"
            ]
          },
          "execution_count": 13,
          "metadata": {},
          "output_type": "execute_result"
        },
        {
          "data": {
            "image/png": "[encoded data removed]",
            "text/plain": [
              "<Figure size 640x480 with 1 Axes>"
            ]
          },
          "metadata": {},
          "output_type": "display_data"
        }
      ],
      "source": [
        "sns.boxplot(x='test preparation course', y='writing score', data=df)"
      ]
    }
  ],
  "metadata": {
    "colab": {
      "provenance": []
    },
    "kernelspec": {
      "display_name": "Python 3",
      "name": "python3"
    },
    "language_info": {
      "codemirror_mode": {
        "name": "ipython",
        "version": 3
      },
      "file_extension": ".py",
      "mimetype": "text/x-python",
      "name": "python",
      "nbconvert_exporter": "python",
      "pygments_lexer": "ipython3",
      "version": "3.13.6"
    }
  },
  "nbformat": 4,
  "nbformat_minor": 0
}
